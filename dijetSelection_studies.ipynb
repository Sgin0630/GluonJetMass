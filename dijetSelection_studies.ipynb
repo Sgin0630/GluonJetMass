{
 "cells": [
  {
   "cell_type": "code",
   "execution_count": 1,
   "id": "c1d30278",
   "metadata": {},
   "outputs": [
    {
     "name": "stdout",
     "output_type": "stream",
     "text": [
      "0.7.14\n"
     ]
    }
   ],
   "source": [
    "import awkward as ak\n",
    "import numpy as np\n",
    "import time\n",
    "import coffea\n",
    "import os\n",
    "import pandas as pd\n",
    "from plugins import handleData\n",
    "\n",
    "print(coffea.__version__)\n",
    "from coffea import util\n",
    "from coffea.nanoevents import NanoEventsFactory, NanoAODSchema\n",
    "\n",
    "testFiles = [\n",
    "\"root://cmsxrootd.fnal.gov//store/mc/RunIISummer20UL17NanoAODv9/QCD_Pt_170to300_TuneCP5_13TeV_pythia8/NANOAODSIM/106X_mc2017_realistic_v9-v1/120000/0CDD30E0-B953-E54B-BB7A-BFB45BE6EC93.root\",\n",
    "\"root://cmsxrootd.fnal.gov//store/mc/RunIISummer20UL17NanoAODv9/QCD_Pt_300to470_TuneCP5_13TeV_pythia8/NANOAODSIM/106X_mc2017_realistic_v9-v1/120000/3788BBD3-3B70-BE48-B01A-4FA395E1E0B6.root\",\n",
    "\"root://cmsxrootd.fnal.gov//store/mc/RunIISummer20UL17NanoAODv9/QCD_Pt_470to600_TuneCP5_13TeV_pythia8/NANOAODSIM/106X_mc2017_realistic_v9-v1/70000/F6B6A983-3E2B-7B4D-A2CE-E03AB6E32387.root\",\n",
    "\"root://cmsxrootd.fnal.gov//store/mc/RunIISummer20UL17NanoAODv9/QCD_Pt_600to800_TuneCP5_13TeV_pythia8/NANOAODSIM/106X_mc2017_realistic_v9-v1/70000/FDF7FBE4-9226-994A-BD45-29995A3CD62F.root\",\n",
    "\"root://cmsxrootd.fnal.gov//store/mc/RunIISummer20UL17NanoAODv9/QCD_Pt_800to1000_TuneCP5_13TeV_pythia8/NANOAODSIM/106X_mc2017_realistic_v9-v1/70000/2CEB03D7-5B1A-EE46-9C21-13ED3E349AF4.root\",\n",
    "\"root://cmsxrootd.fnal.gov//store/mc/RunIISummer20UL17NanoAODv9/QCD_Pt_1000to1400_TuneCP5_13TeV_pythia8/NANOAODSIM/106X_mc2017_realistic_v9-v1/70000/DB87A517-0584-1A41-BB18-AAE7C9AAE5B8.root\",\n",
    "\"root://cmsxrootd.fnal.gov//store/mc/RunIISummer20UL17NanoAODv9/QCD_Pt_1400to1800_TuneCP5_13TeV_pythia8/NANOAODSIM/106X_mc2017_realistic_v9-v1/280000/BFE2E7E9-82CB-FE47-9B43-EBA5C373AF60.root\",\n",
    "\"root://cmsxrootd.fnal.gov//store/mc/RunIISummer20UL17NanoAODv9/QCD_Pt_1800to2400_TuneCP5_13TeV_pythia8/NANOAODSIM/106X_mc2017_realistic_v9-v1/70000/5213B536-BAA1-CC43-A58A-B1E41E2680F5.root\",\n",
    "\"root://cmsxrootd.fnal.gov//store/mc/RunIISummer20UL17NanoAODv9/QCD_Pt_2400to3200_TuneCP5_13TeV_pythia8/NANOAODSIM/106X_mc2017_realistic_v9-v1/280000/E8400F91-3216-EA46-A9F1-8CC7EF5261B0.root\",\n",
    "\"root://cmsxrootd.fnal.gov//store/mc/RunIISummer20UL17NanoAODv9/QCD_Pt_3200toInf_TuneCP5_13TeV_pythia8/NANOAODSIM/106X_mc2017_realistic_v9-v1/280000/B21BFDD8-B878-784C-AFB6-5CDE131F5C39.root\"\n",
    "]\n",
    "\n",
    "# redirector = 'root://cmsxrootd.fnal.gov/'\n",
    "# files = handleData('fileset_QCD.json', redirector, testing = True, data = False)\n",
    "# files_test = handleData('fileset_QCD.json', redirector, testing = False, data = False)\n",
    "# print(files)\n",
    "# print(files_test)\n",
    "\n",
    "#/store/mc/RunIISummer20UL17NanoAODv9/QCD_Pt_3200toInf_TuneCP5_13TeV_pythia8/NANOAODSIM/106X_mc2017_realistic_v9-v1/70000/7CB92FEA-6DFF-7647-9D7A-094D1F84245B.root has timeout error\n",
    "# events = NanoEventsFactory.from_root(files[0], schemaclass=NanoAODSchema).events()"
   ]
  },
  {
   "cell_type": "code",
   "execution_count": 2,
   "id": "180b9200",
   "metadata": {},
   "outputs": [],
   "source": [
    "from coffea import processor, hist\n",
    "\n",
    "#####\n",
    "##### TO DO #####\n",
    "# find misses --> need to do deltaR matching by hand --> if no reco miss\n",
    "# do Rivet routine\n",
    "\n",
    "\n",
    "class DijetHists(processor.ProcessorABC):\n",
    "    def __init__(self, ptcut=30., etacut = 2.5):\n",
    "        # should have separate lower ptcut for gen\n",
    "        self.ptcut = ptcut\n",
    "        self.etacut = etacut\n",
    "        dataset_cat = hist.Cat(\"dataset\", \"Dataset\")\n",
    "        jet_cat = hist.Cat(\"jetNumb\", \"Jet\")\n",
    "        parton_cat = hist.Cat(\"partonFlav\", \"Parton Flavour\")\n",
    "        mass_bin = hist.Bin(\"mass\", \"Jet Mass (GeV)\", 50, 0, 500.)\n",
    "        mass_gen_bin = hist.Bin(\"mass\", \"Gen Jet Mass (GeV)\", 100, 0, 500.)\n",
    "        pt_bin = hist.Bin(\"pt\", \"Jet pT (GeV)\", 60, 0, 2400.)\n",
    "        bdisc_bin = hist.Bin(\"bdisc\", \"B-tag discriminator\", 10, 0.0, 1.)\n",
    "        frac_bin = hist.Bin(\"gfrac\", \"Gluon fraction\", 10, 0.0, 1.)\n",
    "        eta_bin = hist.Bin(\"eta\", \"Eta\", 25, -2.5, 2.5)\n",
    "        self._histos = processor.dict_accumulator({\n",
    "        'jet_pt':             hist.Hist(\"Events\", jet_cat, parton_cat, pt_bin),\n",
    "#        'jet_pt_m':           hist.Hist(\"Events\", jet_cat, pt_bin, mass_bin),  #why did I need this hist?\n",
    "        'jet_eta':            hist.Hist(\"Events\", jet_cat, parton_cat, eta_bin),\n",
    "        'jet_mass':           hist.Hist(\"Events\", jet_cat, parton_cat, mass_bin),\n",
    "#        'misses_pt_m':        hist.Hist(\"Events\", pt_bin, mass_gen_bin),\n",
    "#        'fakes_pt_m':         hist.Hist(\"Events\", pt_bin, mass_bin),\n",
    "        'jet_response':       hist.Hist(\"Events\", pt_bin, mass_bin, pt_bin, mass_gen_bin),\n",
    "#        'genjet_pt':          hist.Hist(\"Events\", pt_bin),\n",
    "#        'genjet_eta':         hist.Hist(\"Events\", eta_bin),\n",
    "#        'genjet_mass':        hist.Hist(\"Events\", mass_bin),\n",
    "        'weights':            hist.Hist(\"Events\", dataset_cat, hist.Bin(\"weights\", \"gen weights\", 60, 0, 1.)),\n",
    "#         'gluonPurity':      hist.Hist(\"Events\", jet_cat, frac_bin),\n",
    "        'gluonPurity':        processor.defaultdict_accumulator(int),\n",
    "        'nGluonJets':         processor.defaultdict_accumulator(int),\n",
    "        'cutflow':            processor.defaultdict_accumulator(int),\n",
    "        })\n",
    "    \n",
    "    @property\n",
    "    def accumulator(self):\n",
    "        return self._histos\n",
    "    \n",
    "    # we will receive a NanoEvents instead of a coffea DataFrame\n",
    "    def process(self, events):\n",
    "        out = self.accumulator.identity()\n",
    "        dijetEvents = events[(ak.num(events.FatJet) >= 2) & (ak.num(events.GenJetAK8) >= 2)]\n",
    "        \n",
    "#         for i in range(0,10):\n",
    "#             print(\"Check that jets and are ordered by pt: \", events.FatJet[i,:].pt, \"\\n\")\n",
    "#             print(\"and that gen jets are order by pt:\", events.GenJetAK8[i,:].pt, \"\\n\")\n",
    "        \n",
    "        #get leading 2 jets\n",
    "        fatJets = dijetEvents.FatJet[:,0:2]\n",
    "        genJets = dijetEvents.GenJetAK8[:,0:2]\n",
    "        \n",
    "#         print(\"FatJet fields \", fatJets.fields, \"\\n\")\n",
    "#         print(\"GenJet fields \", genJets.fields, \"\\n\")\n",
    "        \n",
    "        \n",
    "        jet1 = dijetEvents.FatJet[:,0]\n",
    "        jet2 = dijetEvents.FatJet[:,1]\n",
    "        genjet1 = dijetEvents.GenJetAK8[:,0]\n",
    "        genjet2 = dijetEvents.GenJetAK8[:,1]\n",
    "        \n",
    "        print(\"Initial # of dijet events \", len(fatJets), \" and gen dijet events \", len(genJets), \"\\n\")\n",
    "        \n",
    "        #calculate dphi_min\n",
    "        dphi12 = (np.abs(jet1.delta_phi(jet2)) > 2.)\n",
    "        dphi12_gen = (np.abs(genjet1.delta_phi(genjet2)) > 2.)\n",
    "        \n",
    "        #apply dphi gen and reco selection, pt cuts\n",
    "        #see CMS PAS SMP-20-010 for selections\n",
    "        \n",
    "        \n",
    "        #want to implement pt > 200GeV to be consistent with dijets?\n",
    "        pt_cut = ak.all(dijetEvents.FatJet.pt > self.ptcut, axis = -1)\n",
    "        pt_cut_gen = ak.all(dijetEvents.GenJetAK8.pt > self.ptcut, axis = -1)\n",
    "        \n",
    "        eta_cut = ak.all(np.abs(dijetEvents.FatJet.eta) < self.etacut, axis = -1)\n",
    "        eta_cut_gen = ak.all(np.abs(dijetEvents.GenJetAK8.eta) < self.etacut, axis = -1)\n",
    "        \n",
    "        asymm = np.abs(jet1.pt - jet2.pt)/(jet1.pt + jet2.pt)\n",
    "        asymm_gen  = np.abs(genjet1.pt - genjet2.pt)/(genjet1.pt + genjet2.pt)\n",
    "        \n",
    "        dijetEvents = dijetEvents[eta_cut & eta_cut_gen & (asymm < 0.3) & (asymm_gen < 0.3) & \n",
    "                                  pt_cut & dphi12 & pt_cut_gen & dphi12_gen]\n",
    "        \n",
    "        print(\"# of dijet events after eta cut\", len(dijetEvents.FatJet), \" and gen dijet events \", len(dijetEvents.GenJetAK8), \"\\n\")\n",
    "                \n",
    "        #match jets\n",
    "        matched = ~ak.any(ak.is_none(dijetEvents.FatJet.matched_gen, axis = -1), axis = -1)\n",
    "        print(\"Length of matched \", len(matched))\n",
    "        # NEED TO MAKE DELTA R MATCHING FOR GEN TO FIND MISSES\n",
    "        #matched_gen = ~ak.is_none(DNE)\n",
    "        \n",
    "        \n",
    "        # fakes are events reconstructed but does not exist in MC\n",
    "        fakes = dijetEvents.FatJet[ak.any(ak.is_none(dijetEvents.FatJet.matched_gen, axis = -1), axis = -1)]\n",
    "        print(\"Number of fake jets \", len(fakes))\n",
    "        \n",
    "        #miss = jet in MC but not reconstructed\n",
    "        \n",
    "        #misses = genJets[ak.is_none(DNE)]\n",
    "        \n",
    "        dijetEvents = dijetEvents[matched]\n",
    "        print(\"Number of matched dijet events\", len(dijetEvents))\n",
    "#         print(\"Check for none values\", ak.any(ak.is_none(dijetEvents, axis = -1)))\n",
    "        \n",
    "        jet = dijetEvents.FatJet[:,:2]\n",
    "        genjet = dijetEvents.GenJetAK8[:,:2]\n",
    "        \n",
    "        jet1 = dijetEvents.FatJet[:,0]\n",
    "        jet2 = dijetEvents.FatJet[:,1]\n",
    "        genjet1 = dijetEvents.GenJetAK8[:,0]\n",
    "        genjet2 = dijetEvents.GenJetAK8[:,1]\n",
    "        \n",
    "        #flavour --> 21 is gluon\n",
    "        \n",
    "        jet2_g     = jet2[np.abs(genjet2.partonFlavour) == 21]\n",
    "        jet2_uds   = jet2[np.abs(genjet2.partonFlavour) < 4]\n",
    "        jet2_c     = jet2[np.abs(genjet2.partonFlavour) == 4]\n",
    "        jet2_b     = jet2[np.abs(genjet2.partonFlavour) == 5]\n",
    "        jet2_other = jet2[(np.abs(genjet2.partonFlavour) > 5) & (np.abs(genjet2.partonFlavour) != 21)]\n",
    "        \n",
    "        jet1_g     = jet1[np.abs(genjet1.partonFlavour) == 21]\n",
    "        jet1_uds   = jet1[np.abs(genjet1.partonFlavour) < 4]\n",
    "        jet1_c     = jet1[np.abs(genjet1.partonFlavour) == 4]\n",
    "        jet1_b     = jet1[np.abs(genjet1.partonFlavour) == 5]\n",
    "        jet1_other = jet1[(np.abs(genjet1.partonFlavour) > 5) & (np.abs(genjet1.partonFlavour) != 21)]\n",
    "        \n",
    "#        #cant do jet_g = jet[jet.partonFlavor == 21] bc this would select events where either jet1 or jet2 is a gluon and keep both jets\n",
    "#        #jet_g = ak.concatenate((jet1_g, jet2_g), axis = 0)\n",
    "#        jet_cat = ak.concatenate((jet1, jet2), axis = 0)\n",
    "#        print(\"check that total jet cat would work same way. length of concat'd jets\", len(ak.concatenate((jet1, jet2), axis = 0)))\n",
    "#        print(\" and flattened jets \",  len(ak.flatten(dijetEvents.FatJet[:,:2])), \"\\n\")\n",
    "        \n",
    "#        #make central and forward categories instead of jet1 jet2\n",
    "#         print(\"Number of gluon jets = \", len(jet1_g)+len(jet2_g), \" or \", len(jet_g))\n",
    "        \n",
    "        \n",
    "        out['jet_mass'].fill(jetNumb = \"jet1\", partonFlav = \"Gluon\",  mass = jet1_g.mass,\n",
    "                             #weight = trijetEvents.Generator.weight[matched1]\n",
    "                            )\n",
    "        out['jet_mass'].fill(jetNumb = \"jet1\", partonFlav = \"UDS\",    mass = jet1_uds.mass,\n",
    "                             #weight = trijetEvents.Generator.weight[matched1]\n",
    "                            )\n",
    "        out['jet_mass'].fill(jetNumb = \"jet1\", partonFlav = \"Charm\",  mass = jet1_c.mass,\n",
    "                             #weight = trijetEvents.Generator.weight[matched1]\n",
    "                            )\n",
    "        out['jet_mass'].fill(jetNumb = \"jet1\", partonFlav = \"Bottom\", mass = jet1_b.mass,\n",
    "                             #weight = trijetEvents.Generator.weight[matched1]\n",
    "                            )\n",
    "        out['jet_mass'].fill(jetNumb = \"jet1\", partonFlav = \"Other\",  mass = jet1_other.mass,\n",
    "                             #weight = trijetEvents.Generator.weight[matched1]\n",
    "                            )\n",
    "        out['jet_mass'].fill(jetNumb = \"jet2\", partonFlav = \"Gluon\",  mass = jet2_g.mass,\n",
    "                             #weight = trijetEvents.Generator.weight[matched1]\n",
    "                            )\n",
    "        out['jet_mass'].fill(jetNumb = \"jet2\", partonFlav = \"UDS\",    mass = jet2_uds.mass,\n",
    "                             #weight = trijetEvents.Generator.weight[matched1]\n",
    "                            )\n",
    "        out['jet_mass'].fill(jetNumb = \"jet2\", partonFlav = \"Charm\",  mass = jet2_c.mass,\n",
    "                             #weight = trijetEvents.Generator.weight[matched1]\n",
    "                            )\n",
    "        out['jet_mass'].fill(jetNumb = \"jet2\", partonFlav = \"Bottom\", mass = jet2_b.mass,\n",
    "                             #weight = trijetEvents.Generator.weight[matched1]\n",
    "                            )\n",
    "        out['jet_mass'].fill(jetNumb = \"jet2\", partonFlav = \"Other\",  mass = jet2_other.mass,\n",
    "                             #weight = trijetEvents.Generator.weight[matched1]\n",
    "                            )\n",
    "        \n",
    "        out['jet_pt'].fill(jetNumb = \"jet1\", partonFlav = \"Gluon\",  pt = jet1_g.pt,\n",
    "                             #weight = trijetEvents.Generator.weight[matched1]\n",
    "                            )\n",
    "        out['jet_pt'].fill(jetNumb = \"jet1\", partonFlav = \"UDS\",    pt = jet1_uds.pt,\n",
    "                             #weight = trijetEvents.Generator.weight[matched1]\n",
    "                            )\n",
    "        out['jet_pt'].fill(jetNumb = \"jet1\", partonFlav = \"Charm\",  pt = jet1_c.pt,\n",
    "                             #weight = trijetEvents.Generator.weight[matched1]\n",
    "                            )\n",
    "        out['jet_pt'].fill(jetNumb = \"jet1\", partonFlav = \"Bottom\", pt = jet1_b.pt,\n",
    "                             #weight = trijetEvents.Generator.weight[matched1]\n",
    "                            )\n",
    "        out['jet_pt'].fill(jetNumb = \"jet1\", partonFlav = \"Other\",  pt = jet1_other.pt,\n",
    "                             #weight = trijetEvents.Generator.weight[matched1]\n",
    "                            )\n",
    "        out['jet_pt'].fill(jetNumb = \"jet2\", partonFlav = \"Gluon\",  pt = jet2_g.pt,\n",
    "                             #weight = trijetEvents.Generator.weight[matched1]\n",
    "                            )\n",
    "        out['jet_pt'].fill(jetNumb = \"jet2\", partonFlav = \"UDS\",    pt = jet2_uds.pt,\n",
    "                             #weight = trijetEvents.Generator.weight[matched1]\n",
    "                            )\n",
    "        out['jet_pt'].fill(jetNumb = \"jet2\", partonFlav = \"Charm\",  pt = jet2_c.pt,\n",
    "                             #weight = trijetEvents.Generator.weight[matched1]\n",
    "                            )\n",
    "        out['jet_pt'].fill(jetNumb = \"jet2\", partonFlav = \"Bottom\", pt = jet2_b.pt,\n",
    "                             #weight = trijetEvents.Generator.weight[matched1]\n",
    "                            )\n",
    "        out['jet_pt'].fill(jetNumb = \"jet2\", partonFlav = \"Other\",  pt = jet2_other.pt,\n",
    "                             #weight = trijetEvents.Generator.weight[matched1]\n",
    "                            )\n",
    "\n",
    "        out['jet_eta'].fill(jetNumb = \"jet1\", partonFlav = \"Gluon\",  eta = jet1_g.eta,\n",
    "                             #weight = trijetEvents.Generator.weight[matched1]\n",
    "                            )\n",
    "        out['jet_eta'].fill(jetNumb = \"jet1\", partonFlav = \"UDS\",    eta = jet1_uds.eta,\n",
    "                             #weight = trijetEvents.Generator.weight[matched1]\n",
    "                            )\n",
    "        out['jet_eta'].fill(jetNumb = \"jet1\", partonFlav = \"Charm\",  eta = jet1_c.eta,\n",
    "                             #weight = trijetEvents.Generator.weight[matched1]\n",
    "                            )\n",
    "        out['jet_eta'].fill(jetNumb = \"jet1\", partonFlav = \"Bottom\", eta = jet1_b.eta,\n",
    "                             #weight = trijetEvents.Generator.weight[matched1]\n",
    "                            )\n",
    "        out['jet_eta'].fill(jetNumb = \"jet1\", partonFlav = \"Other\",  eta = jet1_other.eta,\n",
    "                             #weight = trijetEvents.Generator.weight[matched1]\n",
    "                            )\n",
    "        out['jet_eta'].fill(jetNumb = \"jet2\", partonFlav = \"Gluon\",  eta = jet2_g.eta,\n",
    "                             #weight = trijetEvents.Generator.weight[matched1]\n",
    "                            )\n",
    "        out['jet_eta'].fill(jetNumb = \"jet2\", partonFlav = \"UDS\",    eta = jet2_uds.eta,\n",
    "                             #weight = trijetEvents.Generator.weight[matched1]\n",
    "                            )\n",
    "        out['jet_eta'].fill(jetNumb = \"jet2\", partonFlav = \"Charm\",  eta = jet2_c.eta,\n",
    "                             #weight = trijetEvents.Generator.weight[matched1]\n",
    "                            )\n",
    "        out['jet_eta'].fill(jetNumb = \"jet2\", partonFlav = \"Bottom\", eta = jet2_b.eta,\n",
    "                             #weight = trijetEvents.Generator.weight[matched1]\n",
    "                            )\n",
    "        out['jet_eta'].fill(jetNumb = \"jet2\", partonFlav = \"Other\",  eta = jet2_other.eta,\n",
    "                             #weight = trijetEvents.Generator.weight[matched1]\n",
    "                            )\n",
    "\n",
    "        #NOTE --> need gen sd mass eventually --> recluster :( \n",
    "#         out['genjet_mass'].fill(\n",
    "#             mass=ak.flatten(genjet.mass),\n",
    "#             #weight=ak.flatten(dijetEvents.Generator.weight[~ak.is_none(dijetEvents.FatJet[:,0].matched_gen)])\n",
    "#         )\n",
    "            \n",
    "#         out['weights'].fill(\n",
    "#             dataset=events.metadata[\"dataset\"],\n",
    "#             weights=dijetEvents.Generator.weight,\n",
    "#         )     \n",
    "#         out['btag'].fill(\n",
    "#             partonFlav = \"Bottom\",\n",
    "#             bdisc=ak.flatten(jet_b.btagCSVV2),\n",
    "#         )\n",
    "        out['cutflow']['chunks'] += 1\n",
    "        out['cutflow']['nGluonJets'] += (len(jet[np.abs(genjet.partonFlavour) == 21]))\n",
    "        return out\n",
    "    \n",
    "    def postprocess(self, accumulator):\n",
    "        return accumulator"
   ]
  },
  {
   "cell_type": "code",
   "execution_count": 9,
   "id": "1f9eed95",
   "metadata": {
    "scrolled": true
   },
   "outputs": [
    {
     "name": "stdout",
     "output_type": "stream",
     "text": [
      "Running on coffea casa\n",
      "[#                                       ] | 2% Completed |  0.1s"
     ]
    },
    {
     "name": "stderr",
     "output_type": "stream",
     "text": [
      "/opt/conda/lib/python3.8/site-packages/coffea/hist/hist_tools.py:850: RuntimeWarning: Allocating a large (>10M bin) histogram!\n",
      "  warnings.warn(\"Allocating a large (>10M bin) histogram!\", RuntimeWarning)\n"
     ]
    },
    {
     "name": "stdout",
     "output_type": "stream",
     "text": [
      "{'jet_pt': <Hist (jetNumb,partonFlav,pt) instance at 0x7f00e0828d60>, 'jet_eta': <Hist (jetNumb,partonFlav,eta) instance at 0x7f00e0828dc0>, 'jet_mass': <Hist (jetNumb,partonFlav,mass) instance at 0x7f00e07f8370>, 'jet_response': <Hist (pt,mass,pt,mass) instance at 0x7f00e07f8c70>, 'weights': <Hist (dataset,weights) instance at 0x7f00e07f8be0>, 'gluonPurity': defaultdict_accumulator(<class 'int'>, {}), 'nGluonJets': defaultdict_accumulator(<class 'int'>, {}), 'cutflow': defaultdict_accumulator(<class 'int'>, {'chunks': 30, 'nGluonJets': 27105})}\n",
      "Time taken to run over samples  34.66627049446106\n"
     ]
    }
   ],
   "source": [
    "from dask.distributed import Client\n",
    "\n",
    "#switch to if name and arg parse instead of separate function?\n",
    "def runCoffeaJob(processor_inst, json = 'fileset_QCD.json', lpc = False, casa = False, testing = False):\n",
    "    #default is to run locally\n",
    "    tstart = time.time()\n",
    "    executor = processor.futures_executor\n",
    "    redirector = 'root://cmsxrootd.fnal.gov/'\n",
    "    casa_redirector = 'root://xcache/'\n",
    "    exe_args = {\"schema\": NanoAODSchema, 'skipbadfiles': True,}\n",
    "    #samples = samples = { \"QCD\": testFiles }\n",
    "    samples = handleData(json, redirector, testing = testing)\n",
    "    client = None\n",
    "    if casa:\n",
    "        print(\"Running on coffea casa\")\n",
    "        from coffea_casa import CoffeaCasaCluster\n",
    "        from dask.distributed.diagnostics.plugin import UploadDirectory #do i need this?\n",
    "        client = Client(\"tls://lauren-2emeryl-2ehay-40cern-2ech.dask.cmsaf-prod.flatiron.hollandhpc.org:8786\")\n",
    "        samples = handleData(json, casa_redirector, testing = testing)\n",
    "        exe_args = {\n",
    "            \"client\": client,\n",
    "            'skipbadfiles':True,\n",
    "            \"schema\": NanoAODSchema,\n",
    "            \"align_clusters\": True,\n",
    "        }\n",
    "        executor = processor.dask_executor\n",
    "    elif lpc:\n",
    "        print(\"Running on LPC Condor\")\n",
    "        from lpcjobqueue import LPCCondorCluster\n",
    "        cluster = LPCCondorCluster(shared_temp_directory=\"/tmp\")\n",
    "        #### minimum > 0: https://github.com/CoffeaTeam/coffea/issues/465\n",
    "        cluster.adapt(minimum=1, maximum=10)\n",
    "        client = Client(cluster)\n",
    "        exe_args = {\n",
    "            \"client\": client,\n",
    "            'skipbadfiles':True,\n",
    "            \"savemetrics\": True,\n",
    "            \"schema\": NanoAODSchema,\n",
    "            \"align_clusters\": True,\n",
    "        }\n",
    "#         print(\"Waiting for at least one worker...\")\n",
    "        client.wait_for_workers(1)\n",
    "        executor = processor.dask_executor\n",
    "    else:\n",
    "        print(\"Running locally\")\n",
    "    result = processor.run_uproot_job(samples,\n",
    "                                      \"Events\",\n",
    "                                      processor_instance = processor_inst,\n",
    "                                      executor = executor,\n",
    "                                      executor_args = exe_args,\n",
    "                                      chunksize = 1000,\n",
    "                                      maxchunks = 1,\n",
    "                                     )\n",
    "    elapsed = time.time() - tstart\n",
    "    print(result)\n",
    "    print(\"Time taken to run over samples \", elapsed)\n",
    "    return result\n",
    "\n",
    "result = runCoffeaJob(DijetHists(), casa = True, testing = True)\n",
    "util.save(result, 'coffeaOutput/DiJet_pT30_eta25_result.coffea')\n"
   ]
  },
  {
   "cell_type": "code",
   "execution_count": 4,
   "id": "22a563e5",
   "metadata": {},
   "outputs": [
    {
     "name": "stdout",
     "output_type": "stream",
     "text": [
      "\n",
      "<Hist (pt) instance at 0x7f00e0c0e550> <Hist (pt) instance at 0x7f00e0c22f40>\n"
     ]
    },
    {
     "name": "stderr",
     "output_type": "stream",
     "text": [
      "/opt/conda/lib/python3.8/site-packages/coffea/hist/plot.py:427: RuntimeWarning: invalid value encountered in true_divide\n",
      "  rsumw = sumw_num / sumw_denom\n"
     ]
    },
    {
     "data": {
      "text/plain": [
       "(0.0, 1.0)"
      ]
     },
     "execution_count": 4,
     "metadata": {},
     "output_type": "execute_result"
    },
    {
     "data": {
      "image/png": "[encoded data removed]",
      "text/plain": [
       "<Figure size 432x288 with 1 Axes>"
      ]
     },
     "metadata": {
      "needs_background": "light"
     },
     "output_type": "display_data"
    }
   ],
   "source": [
    "print()\n",
    "import matplotlib.pyplot as plt\n",
    "\n",
    "\n",
    "numerator = result['jet_pt'].integrate('partonFlav','Gluon').sum('jetNumb')\n",
    "denominator = result['jet_pt'].sum('partonFlav').sum('jetNumb')\n",
    "print(numerator, denominator)\n",
    "\n",
    "numerator.label = r'$\\epsilon$'\n",
    "ax = hist.plotratio(\n",
    "    num=numerator,\n",
    "    denom=denominator,\n",
    "    error_opts={'color': 'k', 'marker': '.'},\n",
    "    unc='poisson-ratio'\n",
    ")\n",
    "\n",
    "# glu = result['jet_pt'].sum('jetNumb').values()[('Gluon',)]\n",
    "# tot_parton = result['jet_pt'].sum('jetNumb').values()[('All',)]\n",
    "\n",
    "# print(\"Check for nan values in tot_parton \", np.isnan(tot_parton))\n",
    "\n",
    "# glu_frac = np.where(tot_parton > 0, np.divide(glu,tot_parton), 0)\n",
    "\n",
    "# print(len(result['jet_pt'].axis('pt').centers()))\n",
    "# print(result['jet_pt'].to_hist())\n",
    "\n",
    "# print(glu_frac)\n",
    "\n",
    "# plt.scatter(result['jet_pt'].axis('pt').centers(), glu_frac)\n",
    "\n",
    "plt.xlabel(\"Pt (GeV)\")\n",
    "plt.ylabel(\"Gluon fraction\")\n",
    "plt.ylim([0.,1.0])\n"
   ]
  },
  {
   "cell_type": "code",
   "execution_count": 5,
   "id": "aacad3c5",
   "metadata": {},
   "outputs": [
    {
     "name": "stdout",
     "output_type": "stream",
     "text": [
      "<Hist (eta) instance at 0x7f00e0a64f40> <Hist (eta) instance at 0x7f00e09fc0a0>\n"
     ]
    },
    {
     "data": {
      "text/plain": [
       "(0.0, 1.0)"
      ]
     },
     "execution_count": 5,
     "metadata": {},
     "output_type": "execute_result"
    },
    {
     "data": {
      "image/png": "[encoded data removed]",
      "text/plain": [
       "<Figure size 432x288 with 1 Axes>"
      ]
     },
     "metadata": {
      "needs_background": "light"
     },
     "output_type": "display_data"
    }
   ],
   "source": [
    "numerator = result['jet_eta'].integrate('partonFlav','Gluon').sum(\"jetNumb\")\n",
    "denominator = result['jet_eta'].sum('partonFlav').sum(\"jetNumb\")\n",
    "\n",
    "print(numerator, denominator)\n",
    "\n",
    "numerator.label = r'$\\epsilon$'\n",
    "ax = hist.plotratio(\n",
    "    num=numerator,\n",
    "    denom=denominator,\n",
    "    error_opts={'color': 'k', 'marker': '.'},\n",
    "    unc='poisson-ratio'\n",
    ")\n",
    "\n",
    "plt.xlabel(\"Eta < 1.7\")\n",
    "plt.ylabel(\"Gluon fraction\")\n",
    "plt.ylim([0.,1.0])\n"
   ]
  },
  {
   "cell_type": "code",
   "execution_count": 6,
   "id": "374e1fa7",
   "metadata": {},
   "outputs": [
    {
     "name": "stdout",
     "output_type": "stream",
     "text": [
      "<Hist (partonFlav,mass) instance at 0x7f00e09deb80>\n"
     ]
    },
    {
     "name": "stderr",
     "output_type": "stream",
     "text": [
      "/opt/conda/lib/python3.8/site-packages/coffea/hist/plot.py:43: RuntimeWarning: All sumw are zero!  Cannot compute meaningful error bars\n",
      "  warnings.warn(\n"
     ]
    },
    {
     "data": {
      "text/plain": [
       "Text(0.5, 0, 'Jet mass (GeV)')"
      ]
     },
     "execution_count": 6,
     "metadata": {},
     "output_type": "execute_result"
    },
    {
     "data": {
      "image/png": "[encoded data removed]",
      "text/plain": [
       "<Figure size 432x288 with 1 Axes>"
      ]
     },
     "metadata": {
      "needs_background": "light"
     },
     "output_type": "display_data"
    }
   ],
   "source": [
    "#sum entries in bins --> plot as y-axis\n",
    "\n",
    "%matplotlib inline\n",
    "import matplotlib.pyplot as plt\n",
    "# plt.rcParams[\"figure.figsize\"] = (20,5)\n",
    "\n",
    "\n",
    "# fig, axs = plt.subplots(1, 3)\n",
    "print(result['jet_mass'].sum('jetNumb'))\n",
    "hist.plot1d(result['jet_mass'].sum('jetNumb'), stack = True)\n",
    "#axs[0].set_xlabel(\"Jet mass (GeV)\")\n",
    "plt.xlabel(\"Jet mass (GeV)\")"
   ]
  },
  {
   "cell_type": "code",
   "execution_count": 7,
   "id": "6238fc43",
   "metadata": {},
   "outputs": [
    {
     "data": {
      "text/plain": [
       "Text(0.5, 0, 'Jet pT (GeV)')"
      ]
     },
     "execution_count": 7,
     "metadata": {},
     "output_type": "execute_result"
    },
    {
     "data": {
      "image/png": "[encoded data removed]",
      "text/plain": [
       "<Figure size 432x288 with 1 Axes>"
      ]
     },
     "metadata": {
      "needs_background": "light"
     },
     "output_type": "display_data"
    }
   ],
   "source": [
    "fig, ax = plt.subplots(1, 1)\n",
    "hist.plot1d(result['jet_pt'].sum('jetNumb'), stack = True)\n",
    "ax.set_xlabel(\"Jet pT (GeV)\")\n",
    "# ax.set_xscale(\"log\")\n",
    "# ax.set_xlim([170., 2000.])"
   ]
  },
  {
   "cell_type": "code",
   "execution_count": 8,
   "id": "f2fd10c5",
   "metadata": {},
   "outputs": [],
   "source": [
    "#plot pt, eta, phi, fake rate, pt efficiency, gluon purity for difference selections with b tags for all jets \n",
    "#and each individual jet in the 3 jets"
   ]
  },
  {
   "cell_type": "code",
   "execution_count": null,
   "id": "d84a6515",
   "metadata": {},
   "outputs": [],
   "source": []
  },
  {
   "cell_type": "code",
   "execution_count": null,
   "id": "5f0b008d",
   "metadata": {},
   "outputs": [],
   "source": []
  },
  {
   "cell_type": "code",
   "execution_count": null,
   "id": "b0f4aaa0",
   "metadata": {},
   "outputs": [],
   "source": []
  },
  {
   "cell_type": "code",
   "execution_count": null,
   "id": "f89f6894",
   "metadata": {},
   "outputs": [],
   "source": []
  }
 ],
 "metadata": {
  "kernelspec": {
   "display_name": "Python 3 (ipykernel)",
   "language": "python",
   "name": "python3"
  },
  "language_info": {
   "codemirror_mode": {
    "name": "ipython",
    "version": 3
   },
   "file_extension": ".py",
   "mimetype": "text/x-python",
   "name": "python",
   "nbconvert_exporter": "python",
   "pygments_lexer": "ipython3",
   "version": "3.8.13"
  }
 },
 "nbformat": 4,
 "nbformat_minor": 5
}
