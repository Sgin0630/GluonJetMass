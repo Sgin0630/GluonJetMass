{
 "cells": [
  {
   "cell_type": "code",
   "execution_count": null,
   "id": "321500ee-76b6-4e9d-8efd-4a4f40c3c7e4",
   "metadata": {},
   "outputs": [],
   "source": [
    "#### Translating Christine's Rivet routine into Coffea https://gitlab.cern.ch/chmclean/Rivet/-/blob/4635c3169c48979fca189ef61d5be7dda7cf53e8/SMP/src/CMS_2020_PAS_SMP_20_002.cc\n",
    "# import uproot\n",
    "import awkward as ak\n",
    "import numpy as np\n",
    "import time\n",
    "# print(coffea.__version__)\n",
    "from coffea import util\n",
    "from coffea.nanoevents import NanoEventsFactory, NanoAODSchema\n",
    "import mplhep as hep"
   ]
  },
  {
   "cell_type": "code",
   "execution_count": null,
   "id": "cadb14ec-6465-43ec-9914-71ccfa19f919",
   "metadata": {},
   "outputs": [],
   "source": [
    "### Define kinematic cuts for AK8 Jets\n",
    "jet_rap_max = 2.5\n",
    "pt_min = 200.\n",
    "### leading (?) Muon cuts\n",
    "mu_eta_max = 2.4\n",
    "mu0_pt_min = 29. \n",
    "### leading (?) Electron cuts\n",
    "e_eta_max = 2.5\n",
    "e0_pt_min = 40. \n",
    "\n",
    "### Subleading lepton cut\n",
    "lep1_pt_min = 20.\n",
    "\n",
    "### Z cuts\n",
    "Z_pt_min = 90.\n",
    "Z_mass_min = 71.\n",
    "Z_mass_max = 111.\n",
    "\n",
    "### Delta phi between Z and jet\n",
    "dphi = 1.57\n",
    "\n",
    "### Z/jet pt balance requirement\n",
    "pt_asymm = 0.3\n",
    "\n",
    "### Initialise and register projections\n",
    "### rapidty cut for all particles\n",
    "rap_max = 5.\n",
    "\n",
    "### Get AK8 Jets\n",
    "\n",
    "\n",
    "\n",
    "\n",
    "\n"
   ]
  }
 ],
 "metadata": {
  "kernelspec": {
   "display_name": "Python 3 (ipykernel)",
   "language": "python",
   "name": "python3"
  },
  "language_info": {
   "codemirror_mode": {
    "name": "ipython",
    "version": 3
   },
   "file_extension": ".py",
   "mimetype": "text/x-python",
   "name": "python",
   "nbconvert_exporter": "python",
   "pygments_lexer": "ipython3",
   "version": "3.8.13"
  }
 },
 "nbformat": 4,
 "nbformat_minor": 5
}
