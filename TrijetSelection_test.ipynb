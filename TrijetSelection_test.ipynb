{
 "cells": [
  {
   "cell_type": "code",
   "execution_count": 1,
   "id": "1bceac1d",
   "metadata": {},
   "outputs": [
    {
     "name": "stdout",
     "output_type": "stream",
     "text": [
      "0.7.8\n"
     ]
    }
   ],
   "source": [
    "import awkward as ak\n",
    "import numpy as np\n",
    "import time\n",
    "import coffea\n",
    "print(coffea.__version__)\n",
    "from coffea.nanoevents import NanoEventsFactory, NanoAODSchema\n",
    "from coffea.nanoevents import NanoEventsFactory, NanoAODSchema\n",
    "files = \"root://cmsxrootd.fnal.gov//store/mc/RunIISummer20UL17NanoAODv9/QCD_Pt_300to470_TuneCP5_13TeV_pythia8/NANOAODSIM/106X_mc2017_realistic_v9-v1/120000/3788BBD3-3B70-BE48-B01A-4FA395E1E0B6.root\"\n",
    "#\"root://cmseos.fnal.gov//store/user/hats/2021/JEC/RunIISummer19UL17NanoAOD_QCD_Pt-15to7000_NANOAODSIM_JMECustomTuples.root\"\n",
    "events = NanoEventsFactory.from_root(files, schemaclass=NanoAODSchema).events()"
   ]
  },
  {
   "cell_type": "code",
   "execution_count": 2,
   "id": "88de8b7a",
   "metadata": {},
   "outputs": [],
   "source": [
    "from coffea import processor, hist\n",
    "\n",
    "class TriJetHists(processor.ProcessorABC):\n",
    "    def __init__(self):\n",
    "        dataset_cats = hist.Cat(\"dataset\", \"Dataset\")\n",
    "        mass_bins = hist.Bin(\"mass\", \"jet mass\", 60, 0, 120)\n",
    "        self._histos = processor.dict_accumulator({\n",
    "        'mass1':hist.Hist(\n",
    "            \"Events\", dataset_cats,\n",
    "            mass_bins,\n",
    "        ),\n",
    "        'mass2':hist.Hist(\n",
    "            \"Events\", dataset_cats,\n",
    "            mass_bins,\n",
    "        ),\n",
    "        'mass3':hist.Hist(\n",
    "            \"Events\", dataset_cats,\n",
    "            mass_bins,\n",
    "        ),\n",
    "        'genmass1':hist.Hist(\n",
    "            \"Events\", dataset_cats,\n",
    "            mass_bins,\n",
    "        ),\n",
    "        'genmass2':hist.Hist(\n",
    "            \"Events\", dataset_cats,\n",
    "            mass_bins,\n",
    "        ),\n",
    "        'genmass3':hist.Hist(\n",
    "            \"Events\", dataset_cats,\n",
    "            mass_bins,\n",
    "        ),\n",
    "        'mass3_g':hist.Hist(\n",
    "            \"Events\", dataset_cats,\n",
    "            mass_bins,\n",
    "        ),\n",
    "        'mass3_uds':hist.Hist(\n",
    "            \"Events\", dataset_cats,\n",
    "            mass_bins,\n",
    "        ),\n",
    "        'mass3_c':hist.Hist(\n",
    "            \"Events\", dataset_cats,\n",
    "            mass_bins,\n",
    "        ),\n",
    "        'mass3_b':hist.Hist(\n",
    "            \"Events\", dataset_cats,\n",
    "            mass_bins,\n",
    "        ),\n",
    "        'weights':hist.Hist(\n",
    "            \"Events\",\n",
    "            dataset_cats,\n",
    "            hist.Bin(\"weights\", \"gen weights\", 60, 0, 1),\n",
    "        )})\n",
    "    \n",
    "    @property\n",
    "    def accumulator(self):\n",
    "        return self._histos\n",
    "    \n",
    "    # we will receive a NanoEvents instead of a coffea DataFrame\n",
    "    def process(self, events):\n",
    "        out = self.accumulator.identity()\n",
    "        trijetevents = events[\n",
    "            (ak.num(events.FatJet) >= 3) & (ak.num(events.GenJetAK8) >= 3)\n",
    "        ]\n",
    "        #get only jets matched with gen and store fakes\n",
    "#         trijetevents = trijetevents[~ak.is_none(jet.matched_gen)]\n",
    "#         fakes = trijetevents[ak.is_none(jet.matched_gen)]\n",
    "        \n",
    "        #get leading 3 jets\n",
    "        jet1 = trijetevents.FatJet[:, 0]\n",
    "        jet2 = trijetevents.FatJet[:, 1]\n",
    "        jet3 = trijetevents.FatJet[:, 2]\n",
    "        \n",
    "        #calculate dphi_min\n",
    "        dphi12 = np.abs(jet1.delta_phi(jet2))\n",
    "        dphi13 = np.abs(jet1.delta_phi(jet3))\n",
    "        dphi23 = np.abs(jet2.delta_phi(jet3))\n",
    "        \n",
    "        dphi_min = np.amin([dphi12, dphi13, dphi23], axis = 0)\n",
    "        \n",
    "        #do same for gen; jets might not be same order reco and gen\n",
    "        genjet1 = jet1.matched_gen\n",
    "        genjet2 = jet2.matched_gen\n",
    "        genjet3 = jet3.matched_gen\n",
    "        \n",
    "        #do matching and fakes for each jet individually\n",
    "        \n",
    "        dphi12_gen = np.abs(genjet1.delta_phi(genjet2))\n",
    "        dphi13_gen = np.abs(genjet1.delta_phi(genjet3))\n",
    "        dphi23_gen = np.abs(genjet2.delta_phi(genjet3))\n",
    "        \n",
    "        dphimin_gen = np.amin([dphi12_gen, dphi13_gen, dphi23_gen], axis = 0)\n",
    "        \n",
    "        #apply dphi gen and reco selection\n",
    "        trijetevents = trijetevents[(dphimin_gen > 1.0) & (dphi_min > 1.0)]\n",
    "        jet1 = trijetevents.FatJet[:, 0]\n",
    "        jet2 = trijetevents.FatJet[:, 1]\n",
    "        jet3 = trijetevents.FatJet[:, 2]\n",
    "        genjet1 = trijetevents.GenJetAK8[:, 0]\n",
    "        genjet2 = trijetevents.GenJetAK8[:, 1]\n",
    "        genjet3 = trijetevents.GenJetAK8[:, 2]\n",
    "\n",
    "        #flavour --> 21 is gluon\n",
    "        jet3_g = jet3[np.abs(genjet3.partonFlavour) == 21]\n",
    "        jet3_uds = jet3[np.abs(genjet3.partonFlavour) < 4]\n",
    "        jet3_c = jet3[np.abs(genjet3.partonFlavour) == 4]\n",
    "        jet3_b = jet3[np.abs(genjet3.partonFlavour) == 5]\n",
    "        \n",
    "        out['mass1'].fill(\n",
    "            dataset=events.metadata[\"dataset\"],\n",
    "            mass=jet1.mass,\n",
    "            weight=trijetevents.Generator.weight\n",
    "        )\n",
    "        out['mass2'].fill(\n",
    "            dataset=events.metadata[\"dataset\"],\n",
    "            mass=jet2.mass,\n",
    "            weight=trijetevents.Generator.weight\n",
    "        )\n",
    "        out['mass3'].fill(\n",
    "            dataset=events.metadata[\"dataset\"],\n",
    "            mass=jet3.mass,\n",
    "            weight=trijetevents.Generator.weight\n",
    "        )\n",
    "        #NOTE --> need gen sd mass eventually --> recluster :( \n",
    "        out['genmass1'].fill(\n",
    "            dataset=events.metadata[\"dataset\"],\n",
    "            mass=genjet1.mass,\n",
    "            weight=trijetevents.Generator.weight\n",
    "        )\n",
    "        out['genmass2'].fill(\n",
    "            dataset=events.metadata[\"dataset\"],\n",
    "            mass=genjet2.mass,\n",
    "            weight=trijetevents.Generator.weight\n",
    "        )\n",
    "        out['genmass3'].fill(\n",
    "            dataset=events.metadata[\"dataset\"],\n",
    "            mass=genjet3.mass,\n",
    "            weight=trijetevents.Generator.weight\n",
    "        )\n",
    "        out['mass3_g'].fill(\n",
    "            dataset=events.metadata[\"dataset\"],\n",
    "            mass=jet3_g.mass,\n",
    "            weight=trijetevents.Generator.weight[np.abs(genjet3.partonFlavour) == 21]\n",
    "        )\n",
    "        out['mass3_uds'].fill(\n",
    "            dataset=events.metadata[\"dataset\"],\n",
    "            mass=jet3_uds.mass,\n",
    "            weight=trijetevents.Generator.weight[np.abs(genjet3.partonFlavour) < 4]\n",
    "        )\n",
    "        out['mass3_c'].fill(\n",
    "            dataset=events.metadata[\"dataset\"],\n",
    "            mass=jet3_c.mass,\n",
    "            weight=trijetevents.Generator.weight[np.abs(genjet3.partonFlavour) == 4]\n",
    "        )\n",
    "        out['mass3_b'].fill(\n",
    "            dataset=events.metadata[\"dataset\"],\n",
    "            mass=jet3_b.mass,\n",
    "            weight=trijetevents.Generator.weight[np.abs(genjet3.partonFlavour) == 5]\n",
    "        )\n",
    "        out['weights'].fill(\n",
    "            dataset=events.metadata[\"dataset\"],\n",
    "            weights=trijetevents.Generator.weight,\n",
    "        )                                          \n",
    "        return out\n",
    "    \n",
    "    def postprocess(self, accumulator):\n",
    "        return accumulator"
   ]
  },
  {
   "cell_type": "code",
   "execution_count": 3,
   "id": "3f5b7b6f",
   "metadata": {
    "scrolled": false
   },
   "outputs": [
    {
     "data": {
      "application/vnd.jupyter.widget-view+json": {
       "model_id": "a5a6c09fb43444979a1e29aef4bd8c4a",
       "version_major": 2,
       "version_minor": 0
      },
      "text/plain": [
       "Preprocessing:   0%|          | 0/1 [00:00<?, ?file/s]"
      ]
     },
     "metadata": {},
     "output_type": "display_data"
    },
    {
     "data": {
      "application/vnd.jupyter.widget-view+json": {
       "model_id": "110c2594527b44ebb2a35e06acdd4dc6",
       "version_major": 2,
       "version_minor": 0
      },
      "text/plain": [
       "Processing:   0%|          | 0/9 [00:00<?, ?chunk/s]"
      ]
     },
     "metadata": {},
     "output_type": "display_data"
    },
    {
     "ename": "ValueError",
     "evalue": "ak.to_numpy cannot convert 'None' values to np.ma.MaskedArray unless the 'allow_missing' parameter is set to True\n\n(https://github.com/scikit-hep/awkward-1.0/blob/1.5.0/src/awkward/operations/convert.py#L314)\n\nFailed processing file: WorkItem(dataset='QCD', filename='root://cmsxrootd.fnal.gov//store/mc/RunIISummer20UL17NanoAODv9/QCD_Pt_300to470_TuneCP5_13TeV_pythia8/NANOAODSIM/106X_mc2017_realistic_v9-v1/120000/3788BBD3-3B70-BE48-B01A-4FA395E1E0B6.root', treename='Events', entrystart=0, entrystop=103445, fileuuid=b'\\xf6\\x13I\\x9c\\xed\\xdf\\x11\\xeb\\x86Y\\x80\\x06\\r\\n\\xbe\\xef', usermeta={})",
     "output_type": "error",
     "traceback": [
      "\u001b[0;31m---------------------------------------------------------------------------\u001b[0m",
      "\u001b[0;31mValueError\u001b[0m                                Traceback (most recent call last)",
      "\u001b[0;32m/tmp/ipykernel_29286/2326368043.py\u001b[0m in \u001b[0;36m<module>\u001b[0;34m\u001b[0m\n\u001b[1;32m      3\u001b[0m }\n\u001b[1;32m      4\u001b[0m \u001b[0;34m\u001b[0m\u001b[0m\n\u001b[0;32m----> 5\u001b[0;31m result = processor.run_uproot_job(\n\u001b[0m\u001b[1;32m      6\u001b[0m     \u001b[0msamples\u001b[0m\u001b[0;34m,\u001b[0m\u001b[0;34m\u001b[0m\u001b[0;34m\u001b[0m\u001b[0m\n\u001b[1;32m      7\u001b[0m     \u001b[0;34m\"Events\"\u001b[0m\u001b[0;34m,\u001b[0m\u001b[0;34m\u001b[0m\u001b[0;34m\u001b[0m\u001b[0m\n",
      "\u001b[0;32m/opt/conda/lib/python3.8/site-packages/coffea/processor/__init__.py\u001b[0m in \u001b[0;36m_run_x_job\u001b[0;34m(fileset, treename, processor_instance, executor, executor_args, pre_executor, pre_args, chunksize, maxchunks, metadata_cache, dynamic_chunksize, format)\u001b[0m\n\u001b[1;32m    102\u001b[0m     )\n\u001b[1;32m    103\u001b[0m \u001b[0;34m\u001b[0m\u001b[0m\n\u001b[0;32m--> 104\u001b[0;31m     return run(\n\u001b[0m\u001b[1;32m    105\u001b[0m         \u001b[0mfileset\u001b[0m\u001b[0;34m,\u001b[0m\u001b[0;34m\u001b[0m\u001b[0;34m\u001b[0m\u001b[0m\n\u001b[1;32m    106\u001b[0m         \u001b[0mtreename\u001b[0m\u001b[0;34m,\u001b[0m\u001b[0;34m\u001b[0m\u001b[0;34m\u001b[0m\u001b[0m\n",
      "\u001b[0;32m/opt/conda/lib/python3.8/site-packages/coffea/processor/executor.py\u001b[0m in \u001b[0;36m__call__\u001b[0;34m(self, fileset, treename, processor_instance)\u001b[0m\n\u001b[1;32m   1277\u001b[0m \u001b[0;34m\u001b[0m\u001b[0m\n\u001b[1;32m   1278\u001b[0m         \u001b[0mexecutor\u001b[0m \u001b[0;34m=\u001b[0m \u001b[0mself\u001b[0m\u001b[0;34m.\u001b[0m\u001b[0mexecutor\u001b[0m\u001b[0;34m.\u001b[0m\u001b[0mcopy\u001b[0m\u001b[0;34m(\u001b[0m\u001b[0;34m**\u001b[0m\u001b[0mexe_args\u001b[0m\u001b[0;34m)\u001b[0m\u001b[0;34m\u001b[0m\u001b[0;34m\u001b[0m\u001b[0m\n\u001b[0;32m-> 1279\u001b[0;31m         \u001b[0mwrapped_out\u001b[0m \u001b[0;34m=\u001b[0m \u001b[0mexecutor\u001b[0m\u001b[0;34m(\u001b[0m\u001b[0mchunks\u001b[0m\u001b[0;34m,\u001b[0m \u001b[0mclosure\u001b[0m\u001b[0;34m,\u001b[0m \u001b[0;32mNone\u001b[0m\u001b[0;34m)\u001b[0m\u001b[0;34m\u001b[0m\u001b[0;34m\u001b[0m\u001b[0m\n\u001b[0m\u001b[1;32m   1280\u001b[0m \u001b[0;34m\u001b[0m\u001b[0m\n\u001b[1;32m   1281\u001b[0m         \u001b[0mprocessor_instance\u001b[0m\u001b[0;34m.\u001b[0m\u001b[0mpostprocess\u001b[0m\u001b[0;34m(\u001b[0m\u001b[0mwrapped_out\u001b[0m\u001b[0;34m[\u001b[0m\u001b[0;34m\"out\"\u001b[0m\u001b[0;34m]\u001b[0m\u001b[0;34m)\u001b[0m\u001b[0;34m\u001b[0m\u001b[0;34m\u001b[0m\u001b[0m\n",
      "\u001b[0;32m/opt/conda/lib/python3.8/site-packages/coffea/processor/executor.py\u001b[0m in \u001b[0;36m__call__\u001b[0;34m(self, items, function, accumulator)\u001b[0m\n\u001b[1;32m    472\u001b[0m         )\n\u001b[1;32m    473\u001b[0m         \u001b[0mgen\u001b[0m \u001b[0;34m=\u001b[0m \u001b[0mmap\u001b[0m\u001b[0;34m(\u001b[0m\u001b[0mfunction\u001b[0m\u001b[0;34m,\u001b[0m \u001b[0mgen\u001b[0m\u001b[0;34m)\u001b[0m\u001b[0;34m\u001b[0m\u001b[0;34m\u001b[0m\u001b[0m\n\u001b[0;32m--> 474\u001b[0;31m         \u001b[0;32mreturn\u001b[0m \u001b[0maccumulate\u001b[0m\u001b[0;34m(\u001b[0m\u001b[0mgen\u001b[0m\u001b[0;34m,\u001b[0m \u001b[0maccumulator\u001b[0m\u001b[0;34m)\u001b[0m\u001b[0;34m\u001b[0m\u001b[0;34m\u001b[0m\u001b[0m\n\u001b[0m\u001b[1;32m    475\u001b[0m \u001b[0;34m\u001b[0m\u001b[0m\n\u001b[1;32m    476\u001b[0m \u001b[0;34m\u001b[0m\u001b[0m\n",
      "\u001b[0;32m/opt/conda/lib/python3.8/site-packages/coffea/processor/accumulator.py\u001b[0m in \u001b[0;36maccumulate\u001b[0;34m(items, accum)\u001b[0m\n\u001b[1;32m     87\u001b[0m     \u001b[0;32mtry\u001b[0m\u001b[0;34m:\u001b[0m\u001b[0;34m\u001b[0m\u001b[0;34m\u001b[0m\u001b[0m\n\u001b[1;32m     88\u001b[0m         \u001b[0;32mif\u001b[0m \u001b[0maccum\u001b[0m \u001b[0;32mis\u001b[0m \u001b[0;32mNone\u001b[0m\u001b[0;34m:\u001b[0m\u001b[0;34m\u001b[0m\u001b[0;34m\u001b[0m\u001b[0m\n\u001b[0;32m---> 89\u001b[0;31m             \u001b[0maccum\u001b[0m \u001b[0;34m=\u001b[0m \u001b[0mnext\u001b[0m\u001b[0;34m(\u001b[0m\u001b[0mgen\u001b[0m\u001b[0;34m)\u001b[0m\u001b[0;34m\u001b[0m\u001b[0;34m\u001b[0m\u001b[0m\n\u001b[0m\u001b[1;32m     90\u001b[0m             \u001b[0;31m# we want to produce a new object so that the input is not mutated\u001b[0m\u001b[0;34m\u001b[0m\u001b[0;34m\u001b[0m\u001b[0;34m\u001b[0m\u001b[0m\n\u001b[1;32m     91\u001b[0m             \u001b[0maccum\u001b[0m \u001b[0;34m=\u001b[0m \u001b[0madd\u001b[0m\u001b[0;34m(\u001b[0m\u001b[0maccum\u001b[0m\u001b[0;34m,\u001b[0m \u001b[0mnext\u001b[0m\u001b[0;34m(\u001b[0m\u001b[0mgen\u001b[0m\u001b[0;34m)\u001b[0m\u001b[0;34m)\u001b[0m\u001b[0;34m\u001b[0m\u001b[0;34m\u001b[0m\u001b[0m\n",
      "\u001b[0;32m/opt/conda/lib/python3.8/site-packages/coffea/processor/accumulator.py\u001b[0m in \u001b[0;36m<genexpr>\u001b[0;34m(.0)\u001b[0m\n\u001b[1;32m     84\u001b[0m     \u001b[0mitems\u001b[0m\u001b[0;34m:\u001b[0m \u001b[0mIterable\u001b[0m\u001b[0;34m[\u001b[0m\u001b[0mOptional\u001b[0m\u001b[0;34m[\u001b[0m\u001b[0mAccumulatable\u001b[0m\u001b[0;34m]\u001b[0m\u001b[0;34m]\u001b[0m\u001b[0;34m,\u001b[0m \u001b[0maccum\u001b[0m\u001b[0;34m:\u001b[0m \u001b[0mOptional\u001b[0m\u001b[0;34m[\u001b[0m\u001b[0mAccumulatable\u001b[0m\u001b[0;34m]\u001b[0m \u001b[0;34m=\u001b[0m \u001b[0;32mNone\u001b[0m\u001b[0;34m\u001b[0m\u001b[0;34m\u001b[0m\u001b[0m\n\u001b[1;32m     85\u001b[0m ) -> Optional[Accumulatable]:\n\u001b[0;32m---> 86\u001b[0;31m     \u001b[0mgen\u001b[0m \u001b[0;34m=\u001b[0m \u001b[0;34m(\u001b[0m\u001b[0mx\u001b[0m \u001b[0;32mfor\u001b[0m \u001b[0mx\u001b[0m \u001b[0;32min\u001b[0m \u001b[0mitems\u001b[0m \u001b[0;32mif\u001b[0m \u001b[0mx\u001b[0m \u001b[0;32mis\u001b[0m \u001b[0;32mnot\u001b[0m \u001b[0;32mNone\u001b[0m\u001b[0;34m)\u001b[0m\u001b[0;34m\u001b[0m\u001b[0;34m\u001b[0m\u001b[0m\n\u001b[0m\u001b[1;32m     87\u001b[0m     \u001b[0;32mtry\u001b[0m\u001b[0;34m:\u001b[0m\u001b[0;34m\u001b[0m\u001b[0;34m\u001b[0m\u001b[0m\n\u001b[1;32m     88\u001b[0m         \u001b[0;32mif\u001b[0m \u001b[0maccum\u001b[0m \u001b[0;32mis\u001b[0m \u001b[0;32mNone\u001b[0m\u001b[0;34m:\u001b[0m\u001b[0;34m\u001b[0m\u001b[0;34m\u001b[0m\u001b[0m\n",
      "\u001b[0;32m/opt/conda/lib/python3.8/site-packages/coffea/processor/executor.py\u001b[0m in \u001b[0;36mautomatic_retries\u001b[0;34m(self, func, *args, **kwargs)\u001b[0m\n\u001b[1;32m    939\u001b[0m                     \u001b[0;32mor\u001b[0m \u001b[0mself\u001b[0m\u001b[0;34m.\u001b[0m\u001b[0mretries\u001b[0m \u001b[0;34m==\u001b[0m \u001b[0mretry_count\u001b[0m\u001b[0;34m\u001b[0m\u001b[0;34m\u001b[0m\u001b[0m\n\u001b[1;32m    940\u001b[0m                 ):\n\u001b[0;32m--> 941\u001b[0;31m                     \u001b[0;32mraise\u001b[0m \u001b[0me\u001b[0m\u001b[0;34m\u001b[0m\u001b[0;34m\u001b[0m\u001b[0m\n\u001b[0m\u001b[1;32m    942\u001b[0m                 \u001b[0mwarnings\u001b[0m\u001b[0;34m.\u001b[0m\u001b[0mwarn\u001b[0m\u001b[0;34m(\u001b[0m\u001b[0;34m\"Attempt %d of %d.\"\u001b[0m \u001b[0;34m%\u001b[0m \u001b[0;34m(\u001b[0m\u001b[0mretry_count\u001b[0m \u001b[0;34m+\u001b[0m \u001b[0;36m1\u001b[0m\u001b[0;34m,\u001b[0m \u001b[0mself\u001b[0m\u001b[0;34m.\u001b[0m\u001b[0mretries\u001b[0m \u001b[0;34m+\u001b[0m \u001b[0;36m1\u001b[0m\u001b[0;34m)\u001b[0m\u001b[0;34m)\u001b[0m\u001b[0;34m\u001b[0m\u001b[0;34m\u001b[0m\u001b[0m\n\u001b[1;32m    943\u001b[0m             \u001b[0mretry_count\u001b[0m \u001b[0;34m+=\u001b[0m \u001b[0;36m1\u001b[0m\u001b[0;34m\u001b[0m\u001b[0;34m\u001b[0m\u001b[0m\n",
      "\u001b[0;32m/opt/conda/lib/python3.8/site-packages/coffea/processor/executor.py\u001b[0m in \u001b[0;36mautomatic_retries\u001b[0;34m(self, func, *args, **kwargs)\u001b[0m\n\u001b[1;32m    927\u001b[0m         \u001b[0;32mwhile\u001b[0m \u001b[0mretry_count\u001b[0m \u001b[0;34m<=\u001b[0m \u001b[0mself\u001b[0m\u001b[0;34m.\u001b[0m\u001b[0mretries\u001b[0m\u001b[0;34m:\u001b[0m\u001b[0;34m\u001b[0m\u001b[0;34m\u001b[0m\u001b[0m\n\u001b[1;32m    928\u001b[0m             \u001b[0;32mtry\u001b[0m\u001b[0;34m:\u001b[0m\u001b[0;34m\u001b[0m\u001b[0;34m\u001b[0m\u001b[0m\n\u001b[0;32m--> 929\u001b[0;31m                 \u001b[0;32mreturn\u001b[0m \u001b[0mfunc\u001b[0m\u001b[0;34m(\u001b[0m\u001b[0;34m*\u001b[0m\u001b[0margs\u001b[0m\u001b[0;34m,\u001b[0m \u001b[0;34m**\u001b[0m\u001b[0mkwargs\u001b[0m\u001b[0;34m)\u001b[0m\u001b[0;34m\u001b[0m\u001b[0;34m\u001b[0m\u001b[0m\n\u001b[0m\u001b[1;32m    930\u001b[0m             \u001b[0;31m# catch xrootd errors and optionally skip\u001b[0m\u001b[0;34m\u001b[0m\u001b[0;34m\u001b[0m\u001b[0;34m\u001b[0m\u001b[0m\n\u001b[1;32m    931\u001b[0m             \u001b[0;31m# or retry to read the file\u001b[0m\u001b[0;34m\u001b[0m\u001b[0;34m\u001b[0m\u001b[0;34m\u001b[0m\u001b[0m\n",
      "\u001b[0;32m/opt/conda/lib/python3.8/site-packages/coffea/processor/executor.py\u001b[0m in \u001b[0;36m_work_function\u001b[0;34m(self, item, processor_instance)\u001b[0m\n\u001b[1;32m   1169\u001b[0m             \u001b[0;32mexcept\u001b[0m \u001b[0mException\u001b[0m \u001b[0;32mas\u001b[0m \u001b[0me\u001b[0m\u001b[0;34m:\u001b[0m\u001b[0;34m\u001b[0m\u001b[0;34m\u001b[0m\u001b[0m\n\u001b[1;32m   1170\u001b[0m                 \u001b[0mfile_trace\u001b[0m \u001b[0;34m=\u001b[0m \u001b[0;34mf\"\\n\\nFailed processing file: {item!r}\"\u001b[0m\u001b[0;34m\u001b[0m\u001b[0;34m\u001b[0m\u001b[0m\n\u001b[0;32m-> 1171\u001b[0;31m                 raise type(e)(str(e) + file_trace).with_traceback(\n\u001b[0m\u001b[1;32m   1172\u001b[0m                     \u001b[0msys\u001b[0m\u001b[0;34m.\u001b[0m\u001b[0mexc_info\u001b[0m\u001b[0;34m(\u001b[0m\u001b[0;34m)\u001b[0m\u001b[0;34m[\u001b[0m\u001b[0;36m2\u001b[0m\u001b[0;34m]\u001b[0m\u001b[0;34m\u001b[0m\u001b[0;34m\u001b[0m\u001b[0m\n\u001b[1;32m   1173\u001b[0m                 ) from None\n",
      "\u001b[0;32m/opt/conda/lib/python3.8/site-packages/coffea/processor/executor.py\u001b[0m in \u001b[0;36m_work_function\u001b[0;34m(self, item, processor_instance)\u001b[0m\n\u001b[1;32m   1166\u001b[0m             \u001b[0mtic\u001b[0m \u001b[0;34m=\u001b[0m \u001b[0mtime\u001b[0m\u001b[0;34m.\u001b[0m\u001b[0mtime\u001b[0m\u001b[0;34m(\u001b[0m\u001b[0;34m)\u001b[0m\u001b[0;34m\u001b[0m\u001b[0;34m\u001b[0m\u001b[0m\n\u001b[1;32m   1167\u001b[0m             \u001b[0;32mtry\u001b[0m\u001b[0;34m:\u001b[0m\u001b[0;34m\u001b[0m\u001b[0;34m\u001b[0m\u001b[0m\n\u001b[0;32m-> 1168\u001b[0;31m                 \u001b[0mout\u001b[0m \u001b[0;34m=\u001b[0m \u001b[0mprocessor_instance\u001b[0m\u001b[0;34m.\u001b[0m\u001b[0mprocess\u001b[0m\u001b[0;34m(\u001b[0m\u001b[0mevents\u001b[0m\u001b[0;34m)\u001b[0m\u001b[0;34m\u001b[0m\u001b[0;34m\u001b[0m\u001b[0m\n\u001b[0m\u001b[1;32m   1169\u001b[0m             \u001b[0;32mexcept\u001b[0m \u001b[0mException\u001b[0m \u001b[0;32mas\u001b[0m \u001b[0me\u001b[0m\u001b[0;34m:\u001b[0m\u001b[0;34m\u001b[0m\u001b[0;34m\u001b[0m\u001b[0m\n\u001b[1;32m   1170\u001b[0m                 \u001b[0mfile_trace\u001b[0m \u001b[0;34m=\u001b[0m \u001b[0;34mf\"\\n\\nFailed processing file: {item!r}\"\u001b[0m\u001b[0;34m\u001b[0m\u001b[0;34m\u001b[0m\u001b[0m\n",
      "\u001b[0;32m/tmp/ipykernel_29286/3349084866.py\u001b[0m in \u001b[0;36mprocess\u001b[0;34m(self, events)\u001b[0m\n\u001b[1;32m     90\u001b[0m         \u001b[0mdphi23_gen\u001b[0m \u001b[0;34m=\u001b[0m \u001b[0mnp\u001b[0m\u001b[0;34m.\u001b[0m\u001b[0mabs\u001b[0m\u001b[0;34m(\u001b[0m\u001b[0mgenjet2\u001b[0m\u001b[0;34m.\u001b[0m\u001b[0mdelta_phi\u001b[0m\u001b[0;34m(\u001b[0m\u001b[0mgenjet3\u001b[0m\u001b[0;34m)\u001b[0m\u001b[0;34m)\u001b[0m\u001b[0;34m\u001b[0m\u001b[0;34m\u001b[0m\u001b[0m\n\u001b[1;32m     91\u001b[0m \u001b[0;34m\u001b[0m\u001b[0m\n\u001b[0;32m---> 92\u001b[0;31m         \u001b[0mdphimin_gen\u001b[0m \u001b[0;34m=\u001b[0m \u001b[0mnp\u001b[0m\u001b[0;34m.\u001b[0m\u001b[0mamin\u001b[0m\u001b[0;34m(\u001b[0m\u001b[0;34m[\u001b[0m\u001b[0mdphi12_gen\u001b[0m\u001b[0;34m,\u001b[0m \u001b[0mdphi13_gen\u001b[0m\u001b[0;34m,\u001b[0m \u001b[0mdphi23_gen\u001b[0m\u001b[0;34m]\u001b[0m\u001b[0;34m,\u001b[0m \u001b[0maxis\u001b[0m \u001b[0;34m=\u001b[0m \u001b[0;36m0\u001b[0m\u001b[0;34m)\u001b[0m\u001b[0;34m\u001b[0m\u001b[0;34m\u001b[0m\u001b[0m\n\u001b[0m\u001b[1;32m     93\u001b[0m \u001b[0;34m\u001b[0m\u001b[0m\n\u001b[1;32m     94\u001b[0m         \u001b[0;31m#apply dphi gen and reco selection\u001b[0m\u001b[0;34m\u001b[0m\u001b[0;34m\u001b[0m\u001b[0;34m\u001b[0m\u001b[0m\n",
      "\u001b[0;32m<__array_function__ internals>\u001b[0m in \u001b[0;36mamin\u001b[0;34m(*args, **kwargs)\u001b[0m\n",
      "\u001b[0;32m/opt/conda/lib/python3.8/site-packages/numpy/core/fromnumeric.py\u001b[0m in \u001b[0;36mamin\u001b[0;34m(a, axis, out, keepdims, initial, where)\u001b[0m\n\u001b[1;32m   2877\u001b[0m     \u001b[0;36m6\u001b[0m\u001b[0;34m\u001b[0m\u001b[0;34m\u001b[0m\u001b[0m\n\u001b[1;32m   2878\u001b[0m     \"\"\"\n\u001b[0;32m-> 2879\u001b[0;31m     return _wrapreduction(a, np.minimum, 'min', axis, None, out,\n\u001b[0m\u001b[1;32m   2880\u001b[0m                           keepdims=keepdims, initial=initial, where=where)\n\u001b[1;32m   2881\u001b[0m \u001b[0;34m\u001b[0m\u001b[0m\n",
      "\u001b[0;32m/opt/conda/lib/python3.8/site-packages/numpy/core/fromnumeric.py\u001b[0m in \u001b[0;36m_wrapreduction\u001b[0;34m(obj, ufunc, method, axis, dtype, out, **kwargs)\u001b[0m\n\u001b[1;32m     84\u001b[0m                 \u001b[0;32mreturn\u001b[0m \u001b[0mreduction\u001b[0m\u001b[0;34m(\u001b[0m\u001b[0maxis\u001b[0m\u001b[0;34m=\u001b[0m\u001b[0maxis\u001b[0m\u001b[0;34m,\u001b[0m \u001b[0mout\u001b[0m\u001b[0;34m=\u001b[0m\u001b[0mout\u001b[0m\u001b[0;34m,\u001b[0m \u001b[0;34m**\u001b[0m\u001b[0mpasskwargs\u001b[0m\u001b[0;34m)\u001b[0m\u001b[0;34m\u001b[0m\u001b[0;34m\u001b[0m\u001b[0m\n\u001b[1;32m     85\u001b[0m \u001b[0;34m\u001b[0m\u001b[0m\n\u001b[0;32m---> 86\u001b[0;31m     \u001b[0;32mreturn\u001b[0m \u001b[0mufunc\u001b[0m\u001b[0;34m.\u001b[0m\u001b[0mreduce\u001b[0m\u001b[0;34m(\u001b[0m\u001b[0mobj\u001b[0m\u001b[0;34m,\u001b[0m \u001b[0maxis\u001b[0m\u001b[0;34m,\u001b[0m \u001b[0mdtype\u001b[0m\u001b[0;34m,\u001b[0m \u001b[0mout\u001b[0m\u001b[0;34m,\u001b[0m \u001b[0;34m**\u001b[0m\u001b[0mpasskwargs\u001b[0m\u001b[0;34m)\u001b[0m\u001b[0;34m\u001b[0m\u001b[0;34m\u001b[0m\u001b[0m\n\u001b[0m\u001b[1;32m     87\u001b[0m \u001b[0;34m\u001b[0m\u001b[0m\n\u001b[1;32m     88\u001b[0m \u001b[0;34m\u001b[0m\u001b[0m\n",
      "\u001b[0;32m/opt/conda/lib/python3.8/site-packages/awkward/highlevel.py\u001b[0m in \u001b[0;36m__array__\u001b[0;34m(self, *args, **kwargs)\u001b[0m\n\u001b[1;32m   1355\u001b[0m         \u001b[0mcannot\u001b[0m \u001b[0mbe\u001b[0m \u001b[0msliced\u001b[0m \u001b[0;32mas\u001b[0m \u001b[0mdimensions\u001b[0m\u001b[0;34m.\u001b[0m\u001b[0;34m\u001b[0m\u001b[0;34m\u001b[0m\u001b[0m\n\u001b[1;32m   1356\u001b[0m         \"\"\"\n\u001b[0;32m-> 1357\u001b[0;31m         \u001b[0;32mreturn\u001b[0m \u001b[0mak\u001b[0m\u001b[0;34m.\u001b[0m\u001b[0m_connect\u001b[0m\u001b[0;34m.\u001b[0m\u001b[0m_numpy\u001b[0m\u001b[0;34m.\u001b[0m\u001b[0mconvert_to_array\u001b[0m\u001b[0;34m(\u001b[0m\u001b[0mself\u001b[0m\u001b[0;34m.\u001b[0m\u001b[0mlayout\u001b[0m\u001b[0;34m,\u001b[0m \u001b[0margs\u001b[0m\u001b[0;34m,\u001b[0m \u001b[0mkwargs\u001b[0m\u001b[0;34m)\u001b[0m\u001b[0;34m\u001b[0m\u001b[0;34m\u001b[0m\u001b[0m\n\u001b[0m\u001b[1;32m   1358\u001b[0m \u001b[0;34m\u001b[0m\u001b[0m\n\u001b[1;32m   1359\u001b[0m     \u001b[0;32mdef\u001b[0m \u001b[0m__array_ufunc__\u001b[0m\u001b[0;34m(\u001b[0m\u001b[0mself\u001b[0m\u001b[0;34m,\u001b[0m \u001b[0mufunc\u001b[0m\u001b[0;34m,\u001b[0m \u001b[0mmethod\u001b[0m\u001b[0;34m,\u001b[0m \u001b[0;34m*\u001b[0m\u001b[0minputs\u001b[0m\u001b[0;34m,\u001b[0m \u001b[0;34m**\u001b[0m\u001b[0mkwargs\u001b[0m\u001b[0;34m)\u001b[0m\u001b[0;34m:\u001b[0m\u001b[0;34m\u001b[0m\u001b[0;34m\u001b[0m\u001b[0m\n",
      "\u001b[0;32m/opt/conda/lib/python3.8/site-packages/awkward/_connect/_numpy.py\u001b[0m in \u001b[0;36mconvert_to_array\u001b[0;34m(layout, args, kwargs)\u001b[0m\n\u001b[1;32m     11\u001b[0m \u001b[0;34m\u001b[0m\u001b[0m\n\u001b[1;32m     12\u001b[0m \u001b[0;32mdef\u001b[0m \u001b[0mconvert_to_array\u001b[0m\u001b[0;34m(\u001b[0m\u001b[0mlayout\u001b[0m\u001b[0;34m,\u001b[0m \u001b[0margs\u001b[0m\u001b[0;34m,\u001b[0m \u001b[0mkwargs\u001b[0m\u001b[0;34m)\u001b[0m\u001b[0;34m:\u001b[0m\u001b[0;34m\u001b[0m\u001b[0;34m\u001b[0m\u001b[0m\n\u001b[0;32m---> 13\u001b[0;31m     \u001b[0mout\u001b[0m \u001b[0;34m=\u001b[0m \u001b[0mak\u001b[0m\u001b[0;34m.\u001b[0m\u001b[0moperations\u001b[0m\u001b[0;34m.\u001b[0m\u001b[0mconvert\u001b[0m\u001b[0;34m.\u001b[0m\u001b[0mto_numpy\u001b[0m\u001b[0;34m(\u001b[0m\u001b[0mlayout\u001b[0m\u001b[0;34m,\u001b[0m \u001b[0mallow_missing\u001b[0m\u001b[0;34m=\u001b[0m\u001b[0;32mFalse\u001b[0m\u001b[0;34m)\u001b[0m\u001b[0;34m\u001b[0m\u001b[0;34m\u001b[0m\u001b[0m\n\u001b[0m\u001b[1;32m     14\u001b[0m     \u001b[0;32mif\u001b[0m \u001b[0margs\u001b[0m \u001b[0;34m==\u001b[0m \u001b[0;34m(\u001b[0m\u001b[0;34m)\u001b[0m \u001b[0;32mand\u001b[0m \u001b[0mkwargs\u001b[0m \u001b[0;34m==\u001b[0m \u001b[0;34m{\u001b[0m\u001b[0;34m}\u001b[0m\u001b[0;34m:\u001b[0m\u001b[0;34m\u001b[0m\u001b[0;34m\u001b[0m\u001b[0m\n\u001b[1;32m     15\u001b[0m         \u001b[0;32mreturn\u001b[0m \u001b[0mout\u001b[0m\u001b[0;34m\u001b[0m\u001b[0;34m\u001b[0m\u001b[0m\n",
      "\u001b[0;32m/opt/conda/lib/python3.8/site-packages/awkward/operations/convert.py\u001b[0m in \u001b[0;36mto_numpy\u001b[0;34m(array, allow_missing)\u001b[0m\n\u001b[1;32m    308\u001b[0m                 \u001b[0;32mreturn\u001b[0m \u001b[0mnumpy\u001b[0m\u001b[0;34m.\u001b[0m\u001b[0mma\u001b[0m\u001b[0;34m.\u001b[0m\u001b[0mMaskedArray\u001b[0m\u001b[0;34m(\u001b[0m\u001b[0mdata\u001b[0m\u001b[0;34m,\u001b[0m \u001b[0mmask\u001b[0m\u001b[0;34m)\u001b[0m\u001b[0;34m\u001b[0m\u001b[0;34m\u001b[0m\u001b[0m\n\u001b[1;32m    309\u001b[0m             \u001b[0;32melse\u001b[0m\u001b[0;34m:\u001b[0m\u001b[0;34m\u001b[0m\u001b[0;34m\u001b[0m\u001b[0m\n\u001b[0;32m--> 310\u001b[0;31m                 raise ValueError(\n\u001b[0m\u001b[1;32m    311\u001b[0m                     \u001b[0;34m\"ak.to_numpy cannot convert 'None' values to \"\u001b[0m\u001b[0;34m\u001b[0m\u001b[0;34m\u001b[0m\u001b[0m\n\u001b[1;32m    312\u001b[0m                     \u001b[0;34m\"np.ma.MaskedArray unless the \"\u001b[0m\u001b[0;34m\u001b[0m\u001b[0;34m\u001b[0m\u001b[0m\n",
      "\u001b[0;31mValueError\u001b[0m: ak.to_numpy cannot convert 'None' values to np.ma.MaskedArray unless the 'allow_missing' parameter is set to True\n\n(https://github.com/scikit-hep/awkward-1.0/blob/1.5.0/src/awkward/operations/convert.py#L314)\n\nFailed processing file: WorkItem(dataset='QCD', filename='root://cmsxrootd.fnal.gov//store/mc/RunIISummer20UL17NanoAODv9/QCD_Pt_300to470_TuneCP5_13TeV_pythia8/NANOAODSIM/106X_mc2017_realistic_v9-v1/120000/3788BBD3-3B70-BE48-B01A-4FA395E1E0B6.root', treename='Events', entrystart=0, entrystop=103445, fileuuid=b'\\xf6\\x13I\\x9c\\xed\\xdf\\x11\\xeb\\x86Y\\x80\\x06\\r\\n\\xbe\\xef', usermeta={})"
     ]
    }
   ],
   "source": [
    "\n",
    "samples = {\n",
    "    \"QCD\": [files]\n",
    "}\n",
    "\n",
    "result = processor.run_uproot_job(\n",
    "    samples,\n",
    "    \"Events\",\n",
    "    TriJetHists(),\n",
    "    processor.iterative_executor,\n",
    "    {\"schema\": NanoAODSchema},\n",
    ")"
   ]
  },
  {
   "cell_type": "code",
   "execution_count": null,
   "id": "2af05256",
   "metadata": {},
   "outputs": [],
   "source": [
    "\n",
    "%matplotlib inline\n",
    "\n",
    "hist.plot1d(result['mass3_g'])"
   ]
  },
  {
   "cell_type": "code",
   "execution_count": null,
   "id": "7e1f0221",
   "metadata": {},
   "outputs": [],
   "source": [
    "hist.plot1d(result['mass3_uds'])"
   ]
  },
  {
   "cell_type": "code",
   "execution_count": null,
   "id": "493f342e",
   "metadata": {},
   "outputs": [],
   "source": [
    "hist.plot1d(result['mass3_b'])"
   ]
  },
  {
   "cell_type": "code",
   "execution_count": null,
   "id": "91ac7bc4",
   "metadata": {},
   "outputs": [],
   "source": [
    "hist.plot1d(result['mass3_c'])"
   ]
  },
  {
   "cell_type": "code",
   "execution_count": null,
   "id": "954930c1",
   "metadata": {},
   "outputs": [],
   "source": [
    "hist.plot1d(result['mass3'])"
   ]
  },
  {
   "cell_type": "code",
   "execution_count": null,
   "id": "89111fb2",
   "metadata": {},
   "outputs": [],
   "source": [
    "hist.plot1d(result['weights'])"
   ]
  },
  {
   "cell_type": "code",
   "execution_count": null,
   "id": "9f555beb",
   "metadata": {},
   "outputs": [],
   "source": [
    "print(events.GenJetAK8.fields)"
   ]
  },
  {
   "cell_type": "code",
   "execution_count": null,
   "id": "9cfdd2d9",
   "metadata": {},
   "outputs": [],
   "source": [
    "print(events.FatJet.fields)"
   ]
  },
  {
   "cell_type": "code",
   "execution_count": null,
   "id": "36d68717",
   "metadata": {},
   "outputs": [],
   "source": [
    "events.GenJetAK8.fields"
   ]
  },
  {
   "cell_type": "code",
   "execution_count": null,
   "id": "f758f58b",
   "metadata": {},
   "outputs": [],
   "source": [
    "#plot pt, eta, phi, fake rate, pt efficiency, gluon purity for difference selections with b tags for all jets \n",
    "#and each individual jet in the 3 jets"
   ]
  },
  {
   "cell_type": "code",
   "execution_count": null,
   "id": "0ba7de83",
   "metadata": {},
   "outputs": [],
   "source": []
  }
 ],
 "metadata": {
  "kernelspec": {
   "display_name": "Python 3 (ipykernel)",
   "language": "python",
   "name": "python3"
  },
  "language_info": {
   "codemirror_mode": {
    "name": "ipython",
    "version": 3
   },
   "file_extension": ".py",
   "mimetype": "text/x-python",
   "name": "python",
   "nbconvert_exporter": "python",
   "pygments_lexer": "ipython3",
   "version": "3.8.12"
  }
 },
 "nbformat": 4,
 "nbformat_minor": 5
}
