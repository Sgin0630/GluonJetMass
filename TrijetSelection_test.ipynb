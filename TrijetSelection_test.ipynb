{
 "cells": [
  {
   "cell_type": "code",
   "execution_count": 1,
   "id": "1bceac1d",
   "metadata": {},
   "outputs": [
    {
     "name": "stdout",
     "output_type": "stream",
     "text": [
      "0.7.9\n"
     ]
    }
   ],
   "source": [
    "import awkward as ak\n",
    "import numpy as np\n",
    "import time\n",
    "import coffea\n",
    "print(coffea.__version__)\n",
    "from coffea.nanoevents import NanoEventsFactory, NanoAODSchema\n",
    "from coffea.nanoevents import NanoEventsFactory, NanoAODSchema\n",
    "files = \"root://cmsxrootd.fnal.gov//store/mc/RunIISummer20UL17NanoAODv9/QCD_Pt_300to470_TuneCP5_13TeV_pythia8/NANOAODSIM/106X_mc2017_realistic_v9-v1/120000/3788BBD3-3B70-BE48-B01A-4FA395E1E0B6.root\"\n",
    "#ADD MORE PT BINS\n",
    "#\"root://cmseos.fnal.gov//store/user/hats/2021/JEC/RunIISummer19UL17NanoAOD_QCD_Pt-15to7000_NANOAODSIM_JMECustomTuples.root\"\n",
    "events = NanoEventsFactory.from_root(files, schemaclass=NanoAODSchema).events()"
   ]
  },
  {
   "cell_type": "code",
   "execution_count": 4,
   "id": "88de8b7a",
   "metadata": {},
   "outputs": [],
   "source": [
    "from coffea import processor, hist\n",
    "\n",
    "class TriJetHists(processor.ProcessorABC):\n",
    "    def __init__(self):\n",
    "        dataset_cats = hist.Cat(\"dataset\", \"Dataset\")\n",
    "        jet_cats = hist.Cat(\"jetNumb\", \"Jet\")\n",
    "        parton_cats = hist.Cat(\"parton_flav\", \"Parton Flavour\")\n",
    "        mass_bins = hist.Bin(\"mass\", \"Jet Mass\", 60, 0, 120)\n",
    "        self._histos = processor.dict_accumulator({\n",
    "        'mass1':hist.Hist(\n",
    "            \"Events\", jet_cats,\n",
    "            mass_bins,\n",
    "        ),\n",
    "        'mass2':hist.Hist(\n",
    "            \"Events\", jet_cats,\n",
    "            mass_bins,\n",
    "        ),\n",
    "        'mass3':hist.Hist(\n",
    "            \"Events\", jet_cats,\n",
    "            mass_bins,\n",
    "        ),\n",
    "        'genmass1':hist.Hist(\n",
    "            \"Events\", jet_cats,\n",
    "            mass_bins,\n",
    "        ),\n",
    "        'genmass2':hist.Hist(\n",
    "            \"Events\", jet_cats,\n",
    "            mass_bins,\n",
    "        ),\n",
    "        'genmass3':hist.Hist(\n",
    "            \"Events\", jet_cats,\n",
    "            mass_bins,\n",
    "        ),\n",
    "        'mass3_g':hist.Hist(\n",
    "            \"Events\", parton_cats,\n",
    "            mass_bins,\n",
    "        ),\n",
    "        'mass3_uds':hist.Hist(\n",
    "            \"Events\", parton_cats,\n",
    "            mass_bins,\n",
    "        ),\n",
    "        'mass3_c':hist.Hist(\n",
    "            \"Events\", parton_cats,\n",
    "            mass_bins,\n",
    "        ),\n",
    "        'mass3_b':hist.Hist(\n",
    "            \"Events\", parton_cats,\n",
    "            mass_bins,\n",
    "        ),\n",
    "        'weights':hist.Hist(\n",
    "            \"Events\",\n",
    "            dataset_cats,\n",
    "            hist.Bin(\"weights\", \"gen weights\", 60, 0, 1),\n",
    "        )})\n",
    "    \n",
    "    @property\n",
    "    def accumulator(self):\n",
    "        return self._histos\n",
    "    \n",
    "    # we will receive a NanoEvents instead of a coffea DataFrame\n",
    "    def process(self, events):\n",
    "        out = self.accumulator.identity()\n",
    "        trijetevents = events[\n",
    "            (ak.num(events.FatJet) >= 3) & (ak.num(events.GenJetAK8) >= 3) #add pt > 100 here???\n",
    "        ]\n",
    "        \n",
    "        #get leading 3 jets\n",
    "        jet1 = trijetevents.FatJet[:, 0]\n",
    "        jet2 = trijetevents.FatJet[:, 1]\n",
    "        jet3 = trijetevents.FatJet[:, 2]\n",
    "        \n",
    "        print(\"Softest jets after >3 selection\", len(jet3))\n",
    "        \n",
    "        \n",
    "        #calculate dphi_min\n",
    "        dphi12 = np.abs(jet1.delta_phi(jet2))\n",
    "        dphi13 = np.abs(jet1.delta_phi(jet3))\n",
    "        dphi23 = np.abs(jet2.delta_phi(jet3))\n",
    "        \n",
    "        dphi_min = np.amin([dphi12, dphi13, dphi23], axis = 0)\n",
    "\n",
    "        #do the same for gen\n",
    "        \n",
    "        #do same for gen; jets might not be same order reco and gen\n",
    "        genjet1 = trijetevents.GenJetAK8[:,0]\n",
    "        genjet2 = trijetevents.GenJetAK8[:,1]\n",
    "        genjet3 = trijetevents.GenJetAK8[:,2]\n",
    "        \n",
    "        dphi12_gen = np.abs(genjet1.delta_phi(genjet2))\n",
    "        dphi13_gen = np.abs(genjet1.delta_phi(genjet3))\n",
    "        dphi23_gen = np.abs(genjet2.delta_phi(genjet3))\n",
    "        \n",
    "        dphimin_gen = np.amin([dphi12_gen, dphi13_gen, dphi23_gen], axis = 0)\n",
    "        \n",
    "        #apply dphi gen and reco selection\n",
    "        trijetevents = trijetevents[(dphimin_gen > 1.0) & (dphi_min > 1.0)]\n",
    "        #match jets\n",
    "        matched1 = ~ak.is_none(trijetevents.FatJet[:,0].matched_gen)\n",
    "        matched2 = ~ak.is_none(trijetevents.FatJet[:,1].matched_gen)\n",
    "        matched3 = ~ak.is_none(trijetevents.FatJet[:,2].matched_gen)\n",
    "        fake_jets = trijetevents.FatJet[ak.is_none(trijetevents.FatJet.matched_gen)]\n",
    "        jet1 = trijetevents.FatJet[:,0][matched1]\n",
    "        jet2 = trijetevents.FatJet[:,1][matched2]\n",
    "        jet3 = trijetevents.FatJet[:,2][matched3]\n",
    "        \n",
    "        genjet1 = jet1.matched_gen\n",
    "        genjet2 = jet2.matched_gen\n",
    "        genjet3 = jet3.matched_gen\n",
    "\n",
    "        print(\"Softest jets after dphi selection and matching\", len(jet3))\n",
    "        \n",
    "        #flavour --> 21 is gluon\n",
    "        jet3_g = jet3[np.abs(genjet3.partonFlavour) == 21]\n",
    "        jet3_uds = jet3[np.abs(genjet3.partonFlavour) < 4]\n",
    "        jet3_c = jet3[np.abs(genjet3.partonFlavour) == 4]\n",
    "        jet3_b = jet3[np.abs(genjet3.partonFlavour) == 5]\n",
    "        \n",
    "        print(\"Btag discr. for gluon jets:\", jet3_g.btagCSVV2)\n",
    "        \n",
    "        print(\"Gluon purity of third jet for basic selection: \", len(jet3_g)/len(jet3))\n",
    "        \n",
    "        #now require leading two jets b-tagged w/ loose discr.\n",
    "        trijetevents_bbloose = trijetevents[(trijetevents.FatJet[:,0].btagCSVV2 >= 0.460) & (trijetevents.FatJet[:,1].btagCSVV2 >= 0.460)]\n",
    "        matched3_btag = ~ak.is_none(trijetevents_bbloose.FatJet[:,2].matched_gen)\n",
    "        jet3_bbloose = trijetevents_bbloose.FatJet[:,2][matched3_btag]\n",
    "        print(\"Gluon purity of third jet for bb loose selection: \", len(jet3_bbloose[np.abs(jet3_bbloose.matched_gen.partonFlavour) == 21])/len(jet3_bbloose))\n",
    "    \n",
    "        #now require leading two jets b-tagged w/ medium discr.\n",
    "        trijetevents_bbmed = trijetevents[(trijetevents.FatJet[:,0].btagCSVV2 >= 0.80) & (trijetevents.FatJet[:,1].btagCSVV2 >= 0.80)]\n",
    "        matched3_btag = ~ak.is_none(trijetevents_bbmed.FatJet[:,2].matched_gen)\n",
    "        jet3_bbmed = trijetevents_bbmed.FatJet[:,2][matched3_btag]\n",
    "        genjet3_bbmed = jet3_bbmed.matched_gen\n",
    "        print(\"Gluon purity of third jet for bb med selection: \", len(jet3_bbmed[np.abs(genjet3_bbmed.partonFlavour) == 21])/len(jet3_bbmed))\n",
    "        print(\"Number of gluon jets after bb med selection\", len(jet3_bbmed[np.abs(genjet3_bbmed.partonFlavour) == 21]))\n",
    "                         \n",
    "        #require only leading jet btag loose\n",
    "        #now require leading two jets b-tagged w/ loose discr.\n",
    "        trijetevents_bloose = trijetevents[(trijetevents.FatJet[:,0].btagCSVV2 >= 0.460)]\n",
    "        matched3_btag = ~ak.is_none(trijetevents_bloose.FatJet[:,2].matched_gen)\n",
    "        jet3_bloose = trijetevents_bloose.FatJet[:,2][matched3_btag]\n",
    "        print(\"Gluon purity of third jet for b loose selection: \", len(jet3_bloose[np.abs(jet3_bloose.matched_gen.partonFlavour) == 21])/len(jet3_bloose))\n",
    "        \n",
    "        \n",
    "        out['mass1'].fill(\n",
    "            jetNumb = \"Leading Jet\",\n",
    "            mass=jet1.mass,\n",
    "            weight=trijetevents.Generator.weight[matched1]\n",
    "        )\n",
    "        out['mass2'].fill(\n",
    "            jetNumb = \"Jet2\",\n",
    "            mass=jet2.mass,\n",
    "            weight=trijetevents.Generator.weight[matched2]\n",
    "        )\n",
    "        out['mass3'].fill(\n",
    "            jetNumb = \"Jet3\",\n",
    "            mass=jet3.mass,\n",
    "            weight=trijetevents.Generator.weight[matched3]\n",
    "        )\n",
    "        #NOTE --> need gen sd mass eventually --> recluster :( \n",
    "        out['genmass1'].fill(\n",
    "            jetNumb = \"Leading Gen Jet\",\n",
    "            mass=genjet1.mass,\n",
    "            weight=trijetevents.Generator.weight[~ak.is_none(trijetevents.FatJet[:,0].matched_gen)]\n",
    "        )\n",
    "        out['genmass2'].fill(\n",
    "            jetNumb = \"Gen Jet2\",\n",
    "            mass=genjet2.mass,\n",
    "            weight=trijetevents.Generator.weight[matched2]\n",
    "        )\n",
    "        out['genmass3'].fill(\n",
    "            jetNumb = \"Gen Jet 3\",\n",
    "            mass=genjet3.mass,\n",
    "            weight=trijetevents.Generator.weight[matched3]\n",
    "        )\n",
    "        out['mass3_g'].fill(\n",
    "            parton_flav = \"Gluon\",\n",
    "            mass=jet3_g.mass,\n",
    "            weight=trijetevents.Generator.weight[np.abs(genjet3.partonFlavour) == 21]\n",
    "        )\n",
    "        out['mass3_uds'].fill(\n",
    "            parton_flav = \"UDS\",\n",
    "            mass=jet3_uds.mass,\n",
    "            weight=trijetevents.Generator.weight[np.abs(genjet3.partonFlavour) < 4]\n",
    "        )\n",
    "        out['mass3_c'].fill(\n",
    "            parton_flav = \"Charm\",\n",
    "            mass=jet3_c.mass,\n",
    "            weight=trijetevents.Generator.weight[np.abs(genjet3.partonFlavour) == 4]\n",
    "        )\n",
    "        out['mass3_b'].fill(\n",
    "            parton_flav = \"Bottom\",\n",
    "            mass=jet3_b.mass,\n",
    "            weight=trijetevents.Generator.weight[np.abs(genjet3.partonFlavour) == 5]\n",
    "        )\n",
    "        out['weights'].fill(\n",
    "            dataset=events.metadata[\"dataset\"],\n",
    "            weights=trijetevents.Generator.weight,\n",
    "        )                                          \n",
    "        return out\n",
    "    \n",
    "    def postprocess(self, accumulator):\n",
    "        return accumulator"
   ]
  },
  {
   "cell_type": "code",
   "execution_count": 5,
   "id": "3f5b7b6f",
   "metadata": {
    "scrolled": false
   },
   "outputs": [
    {
     "data": {
      "application/vnd.jupyter.widget-view+json": {
       "model_id": "c49fec1d8c7a4bda8a72131c89445a0d",
       "version_major": 2,
       "version_minor": 0
      },
      "text/plain": [
       "Processing:   0%|          | 0/9 [00:00<?, ?chunk/s]"
      ]
     },
     "metadata": {},
     "output_type": "display_data"
    },
    {
     "name": "stdout",
     "output_type": "stream",
     "text": [
      "Softest jets after >3 selection 12491\n",
      "Softest jets after dphi selection and matching 6882\n",
      "Btag discr. for gluon jets: [0.215, 0.668, 0.219, 0.692, 0.207, 0.0895, ... 0.766, 0.391, 0.438, 0.152, 0.546]\n",
      "Gluon purity of third jet for basic selection:  0.518308631211857\n",
      "Gluon purity of third jet for bb loose selection:  0.4960127591706539\n",
      "Gluon purity of third jet for bb med selection:  0.4383561643835616\n",
      "Number of gluon jets after bb med selection 32\n",
      "Gluon purity of third jet for b loose selection:  0.5242438790206433\n",
      "Softest jets after >3 selection 12658\n",
      "Softest jets after dphi selection and matching 6915\n",
      "Btag discr. for gluon jets: [0.0995, 0.162, 0.189, 0.171, 0.493, 0.678, ... 0.312, 0.0756, 0.451, 0.0992, 0.19]\n",
      "Gluon purity of third jet for basic selection:  0.511352133044107\n",
      "Gluon purity of third jet for bb loose selection:  0.47163695299837927\n",
      "Gluon purity of third jet for bb med selection:  0.47297297297297297\n",
      "Number of gluon jets after bb med selection 35\n",
      "Gluon purity of third jet for b loose selection:  0.5038986354775828\n",
      "Softest jets after >3 selection 12857\n",
      "Softest jets after dphi selection and matching 7002\n",
      "Btag discr. for gluon jets: [0.922, 0.236, 0.461, 0.642, 0.0796, 0.53, ... 0.127, 0.221, 0.353, 0.0781, 0.094]\n",
      "Gluon purity of third jet for basic selection:  0.5227077977720651\n",
      "Gluon purity of third jet for bb loose selection:  0.4896142433234421\n",
      "Gluon purity of third jet for bb med selection:  0.43373493975903615\n",
      "Number of gluon jets after bb med selection 36\n",
      "Gluon purity of third jet for b loose selection:  0.49111004324843827\n",
      "Softest jets after >3 selection 12670\n",
      "Softest jets after dphi selection and matching 6987\n",
      "Btag discr. for gluon jets: [0.381, 0.357, 0.137, 0.0773, 0.576, 0.326, ... 0.063, 0.652, 0.256, 0.0684, 0.0891]\n",
      "Gluon purity of third jet for basic selection:  0.5189637898955203\n",
      "Gluon purity of third jet for bb loose selection:  0.504746835443038\n",
      "Gluon purity of third jet for bb med selection:  0.4861111111111111\n",
      "Number of gluon jets after bb med selection 35\n",
      "Gluon purity of third jet for b loose selection:  0.5222652468538238\n",
      "Softest jets after >3 selection 12574\n",
      "Softest jets after dphi selection and matching 6863\n",
      "Btag discr. for gluon jets: [0.199, 0.454, 0.656, 0.51, 0.698, 0.091, ... 0.912, 0.191, 0.194, 0.28, 0.43, 0.109]\n",
      "Gluon purity of third jet for basic selection:  0.5131866530671718\n",
      "Gluon purity of third jet for bb loose selection:  0.4880382775119617\n",
      "Gluon purity of third jet for bb med selection:  0.417910447761194\n",
      "Number of gluon jets after bb med selection 28\n",
      "Gluon purity of third jet for b loose selection:  0.4830097087378641\n",
      "Softest jets after >3 selection 12593\n",
      "Softest jets after dphi selection and matching 6877\n",
      "Btag discr. for gluon jets: [0.195, 0.0839, 0.119, 0.46, 0.325, 0.16, ... 0.326, 0.0989, 0.196, 0.239, 0.41]\n",
      "Gluon purity of third jet for basic selection:  0.5261014977461103\n",
      "Gluon purity of third jet for bb loose selection:  0.5218855218855218\n",
      "Gluon purity of third jet for bb med selection:  0.43243243243243246\n",
      "Number of gluon jets after bb med selection 32\n",
      "Gluon purity of third jet for b loose selection:  0.5297324083250743\n",
      "Softest jets after >3 selection 12822\n",
      "Softest jets after dphi selection and matching 6926\n",
      "Btag discr. for gluon jets: [0.21, 0.284, 0.165, 0.497, 0.136, 0.344, ... 0.167, 0.156, 0.569, 0.0962, 0.0826]\n",
      "Gluon purity of third jet for basic selection:  0.5275772451631533\n",
      "Gluon purity of third jet for bb loose selection:  0.5706806282722513\n",
      "Gluon purity of third jet for bb med selection:  0.5064935064935064\n",
      "Number of gluon jets after bb med selection 39\n",
      "Gluon purity of third jet for b loose selection:  0.5401425178147269\n",
      "Softest jets after >3 selection 12720\n",
      "Softest jets after dphi selection and matching 6932\n",
      "Btag discr. for gluon jets: [0.166, 0.148, 0.2, 0.0895, 0.315, 0.78, ... 0.424, 0.101, 0.191, 0.319, 0.365]\n",
      "Gluon purity of third jet for basic selection:  0.5225043277553376\n",
      "Gluon purity of third jet for bb loose selection:  0.4843492586490939\n",
      "Gluon purity of third jet for bb med selection:  0.3148148148148148\n",
      "Number of gluon jets after bb med selection 17\n",
      "Gluon purity of third jet for b loose selection:  0.5184484389782403\n",
      "Softest jets after >3 selection 12489\n",
      "Softest jets after dphi selection and matching 6786\n",
      "Btag discr. for gluon jets: [0.199, 0.179, 0.0884, 0.214, 0.0723, 0.71, ... 0.212, 0.07, 0.973, 0.06, 0.064]\n",
      "Gluon purity of third jet for basic selection:  0.5184202770409667\n",
      "Gluon purity of third jet for bb loose selection:  0.5008210180623974\n",
      "Gluon purity of third jet for bb med selection:  0.4819277108433735\n",
      "Number of gluon jets after bb med selection 40\n",
      "Gluon purity of third jet for b loose selection:  0.5106796116504855\n"
     ]
    }
   ],
   "source": [
    "\n",
    "samples = {\n",
    "    \"QCD\": [files]\n",
    "}\n",
    "\n",
    "result = processor.run_uproot_job(\n",
    "    samples,\n",
    "    \"Events\",\n",
    "    TriJetHists(),\n",
    "    processor.iterative_executor,\n",
    "    {\"schema\": NanoAODSchema},\n",
    ")"
   ]
  },
  {
   "cell_type": "code",
   "execution_count": 6,
   "id": "2af05256",
   "metadata": {},
   "outputs": [
    {
     "data": {
      "text/plain": [
       "Text(0.5, 0, 'Jet3 mass')"
      ]
     },
     "execution_count": 6,
     "metadata": {},
     "output_type": "execute_result"
    },
    {
     "data": {
      "image/png": "[encoded data removed]",
      "text/plain": [
       "<Figure size 432x288 with 1 Axes>"
      ]
     },
     "metadata": {
      "needs_background": "light"
     },
     "output_type": "display_data"
    }
   ],
   "source": [
    "\n",
    "%matplotlib inline\n",
    "%matplotlib inline\n",
    "import matplotlib.pyplot as plt\n",
    "\n",
    "fig, ax = plt.subplots(1, 1)\n",
    "hist.plot1d(result['mass3_g'])\n",
    "hist.plot1d(result['mass3_uds'])\n",
    "hist.plot1d(result['mass3_b'])\n",
    "hist.plot1d(result['mass3_c'])\n",
    "ax.set_xlabel(\"Jet3 mass\")"
   ]
  },
  {
   "cell_type": "code",
   "execution_count": 7,
   "id": "7e1f0221",
   "metadata": {},
   "outputs": [
    {
     "data": {
      "text/plain": [
       "<AxesSubplot:xlabel='Jet Mass', ylabel='Events'>"
      ]
     },
     "execution_count": 7,
     "metadata": {},
     "output_type": "execute_result"
    },
    {
     "data": {
      "image/png": "[encoded data removed]",
      "text/plain": [
       "<Figure size 432x288 with 1 Axes>"
      ]
     },
     "metadata": {
      "needs_background": "light"
     },
     "output_type": "display_data"
    }
   ],
   "source": [
    "hist.plot1d(result['mass3'])\n",
    "hist.plot1d(result['genmass3'])"
   ]
  },
  {
   "cell_type": "code",
   "execution_count": null,
   "id": "493f342e",
   "metadata": {},
   "outputs": [],
   "source": []
  },
  {
   "cell_type": "code",
   "execution_count": null,
   "id": "91ac7bc4",
   "metadata": {},
   "outputs": [],
   "source": []
  },
  {
   "cell_type": "code",
   "execution_count": null,
   "id": "954930c1",
   "metadata": {},
   "outputs": [],
   "source": []
  },
  {
   "cell_type": "code",
   "execution_count": 8,
   "id": "9f555beb",
   "metadata": {},
   "outputs": [
    {
     "name": "stdout",
     "output_type": "stream",
     "text": [
      "[{CSVV2: 0.687, DeepCSVB: 0.79}, {CSVV2: 1.15, ... {CSVV2: 0.975, DeepCSVB: 1.17}]\n"
     ]
    }
   ],
   "source": [
    "print(events.btagWeight)"
   ]
  },
  {
   "cell_type": "code",
   "execution_count": null,
   "id": "9cfdd2d9",
   "metadata": {},
   "outputs": [],
   "source": []
  },
  {
   "cell_type": "code",
   "execution_count": 9,
   "id": "36d68717",
   "metadata": {},
   "outputs": [
    {
     "name": "stdout",
     "output_type": "stream",
     "text": [
      "['area', 'btagCSVV2', 'btagDDBvLV2', 'btagDDCvBV2', 'btagDDCvLV2', 'btagDeepB', 'btagHbb', 'deepTagMD_H4qvsQCD', 'deepTagMD_HbbvsQCD', 'deepTagMD_TvsQCD', 'deepTagMD_WvsQCD', 'deepTagMD_ZHbbvsQCD', 'deepTagMD_ZHccvsQCD', 'deepTagMD_ZbbvsQCD', 'deepTagMD_ZvsQCD', 'deepTagMD_bbvsLight', 'deepTagMD_ccvsLight', 'deepTag_H', 'deepTag_QCD', 'deepTag_QCDothers', 'deepTag_TvsQCD', 'deepTag_WvsQCD', 'deepTag_ZvsQCD', 'eta', 'mass', 'msoftdrop', 'n2b1', 'n3b1', 'particleNetMD_QCD', 'particleNetMD_Xbb', 'particleNetMD_Xcc', 'particleNetMD_Xqq', 'particleNet_H4qvsQCD', 'particleNet_HbbvsQCD', 'particleNet_HccvsQCD', 'particleNet_QCD', 'particleNet_TvsQCD', 'particleNet_WvsQCD', 'particleNet_ZvsQCD', 'particleNet_mass', 'phi', 'pt', 'rawFactor', 'tau1', 'tau2', 'tau3', 'tau4', 'lsf3', 'jetId', 'subJetIdx1', 'subJetIdx2', 'electronIdx3SJ', 'muonIdx3SJ', 'nConstituents', 'genJetAK8Idx', 'hadronFlavour', 'nBHadrons', 'nCHadrons', 'genJetAK8IdxG', 'subJetIdx1G', 'subJetIdx2G', 'subJetIdxG']\n",
      "['binvar', 'scalePDF', 'weight', 'x1', 'x2', 'xpdf1', 'xpdf2', 'id1', 'id2']\n"
     ]
    }
   ],
   "source": [
    "print(events.FatJet.fields)\n",
    "print(events.Generator.fields)"
   ]
  },
  {
   "cell_type": "code",
   "execution_count": 10,
   "id": "f758f58b",
   "metadata": {},
   "outputs": [],
   "source": [
    "#plot pt, eta, phi, fake rate, pt efficiency, gluon purity for difference selections with b tags for all jets \n",
    "#and each individual jet in the 3 jets"
   ]
  },
  {
   "cell_type": "raw",
   "id": "8f21b56a",
   "metadata": {},
   "source": []
  }
 ],
 "metadata": {
  "kernelspec": {
   "display_name": "Python 3 (ipykernel)",
   "language": "python",
   "name": "python3"
  },
  "language_info": {
   "codemirror_mode": {
    "name": "ipython",
    "version": 3
   },
   "file_extension": ".py",
   "mimetype": "text/x-python",
   "name": "python",
   "nbconvert_exporter": "python",
   "pygments_lexer": "ipython3",
   "version": "3.8.12"
  }
 },
 "nbformat": 4,
 "nbformat_minor": 5
}
